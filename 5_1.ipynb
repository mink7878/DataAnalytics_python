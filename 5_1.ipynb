{
  "nbformat": 4,
  "nbformat_minor": 0,
  "metadata": {
    "colab": {
      "name": "5_1.ipynb",
      "provenance": [],
      "collapsed_sections": []
    },
    "kernelspec": {
      "name": "python3",
      "display_name": "Python 3"
    },
    "accelerator": "GPU"
  },
  "cells": [
    {
      "cell_type": "markdown",
      "metadata": {
        "id": "B_N6mORdTXMk"
      },
      "source": [
        "# 5.1 중고나라 휴대폰 거래가격 예측하기"
      ]
    },
    {
      "cell_type": "markdown",
      "metadata": {
        "id": "QHBtXciMTZ3N"
      },
      "source": [
        "## 1. 탐색적 데이터 분석 : 중고나라 데이터 분석하기\r\n"
      ]
    },
    {
      "cell_type": "markdown",
      "metadata": {
        "id": "9iBQ8H1hTb-l"
      },
      "source": [
        "```\r\n",
        "create_date : 판매(혹은 구매) 게시글이 올라온 시점\r\n",
        "price : 게시글 작성자가 제안한 휴대폰의 거래가격\r\n",
        "text : 게시글의 제목과 본문을 합친 텍스트 데이터\r\n",
        "phone_model : 휴대폰의 기종\r\n",
        "factory_price : 휴대폰 공시가격\r\n",
        "maker : 휴대폰 제조사\r\n",
        "price_index : 판매 게시글이 올라온 시점에서의 휴대폰 물가 지수 데이터\r\n",
        "```"
      ]
    },
    {
      "cell_type": "code",
      "metadata": {
        "colab": {
          "base_uri": "https://localhost:8080/"
        },
        "id": "Qk_-oq_UUAE4",
        "outputId": "88bb375d-90a8-41de-c8c1-07427b355896"
      },
      "source": [
        "from google.colab import drive \r\n",
        "\r\n",
        "drive.mount('/content/gdrive/')"
      ],
      "execution_count": 1,
      "outputs": [
        {
          "output_type": "stream",
          "text": [
            "Mounted at /content/gdrive/\n"
          ],
          "name": "stdout"
        }
      ]
    },
    {
      "cell_type": "code",
      "metadata": {
        "colab": {
          "base_uri": "https://localhost:8080/"
        },
        "id": "MlK8LK1XTTOO",
        "outputId": "98ed7e90-ab73-4305-be07-561d2ed117e1"
      },
      "source": [
        "# -*- coding: utf-8 -*-\r\n",
        "\r\n",
        "%matplotlib inline\r\n",
        "\r\n",
        "import pandas as pd\r\n",
        "import numpy as np\r\n",
        "import matplotlib.pyplot as plt\r\n",
        "import seaborn as sns\r\n",
        "\r\n",
        "import warnings\r\n",
        "warnings.filterwarnings(\"ignore\")\r\n",
        "\r\n",
        "df = pd.read_csv('/content/gdrive/MyDrive/Colab Notebooks/data/used_mobile_phone.csv')\r\n",
        "df.info()"
      ],
      "execution_count": 2,
      "outputs": [
        {
          "output_type": "stream",
          "text": [
            "<class 'pandas.core.frame.DataFrame'>\n",
            "RangeIndex: 4951 entries, 0 to 4950\n",
            "Data columns (total 7 columns):\n",
            " #   Column         Non-Null Count  Dtype  \n",
            "---  ------         --------------  -----  \n",
            " 0   create_date    4951 non-null   object \n",
            " 1   price          4951 non-null   float64\n",
            " 2   text           4951 non-null   object \n",
            " 3   phone_model    4951 non-null   object \n",
            " 4   factory_price  4951 non-null   int64  \n",
            " 5   maker          4951 non-null   object \n",
            " 6   price_index    4951 non-null   float64\n",
            "dtypes: float64(2), int64(1), object(4)\n",
            "memory usage: 270.9+ KB\n"
          ],
          "name": "stdout"
        }
      ]
    },
    {
      "cell_type": "code",
      "metadata": {
        "colab": {
          "base_uri": "https://localhost:8080/",
          "height": 1000
        },
        "id": "ViqCgmYATeVI",
        "outputId": "38424fa8-c61e-4b57-c2a4-787c6a608b2f"
      },
      "source": [
        "df.head()"
      ],
      "execution_count": 3,
      "outputs": [
        {
          "output_type": "execute_result",
          "data": {
            "text/html": [
              "<div>\n",
              "<style scoped>\n",
              "    .dataframe tbody tr th:only-of-type {\n",
              "        vertical-align: middle;\n",
              "    }\n",
              "\n",
              "    .dataframe tbody tr th {\n",
              "        vertical-align: top;\n",
              "    }\n",
              "\n",
              "    .dataframe thead th {\n",
              "        text-align: right;\n",
              "    }\n",
              "</style>\n",
              "<table border=\"1\" class=\"dataframe\">\n",
              "  <thead>\n",
              "    <tr style=\"text-align: right;\">\n",
              "      <th></th>\n",
              "      <th>create_date</th>\n",
              "      <th>price</th>\n",
              "      <th>text</th>\n",
              "      <th>phone_model</th>\n",
              "      <th>factory_price</th>\n",
              "      <th>maker</th>\n",
              "      <th>price_index</th>\n",
              "    </tr>\n",
              "  </thead>\n",
              "  <tbody>\n",
              "    <tr>\n",
              "      <th>0</th>\n",
              "      <td>2017-03-19  4 35 00 PM</td>\n",
              "      <td>550000.0</td>\n",
              "      <td>아이폰6플러스 블랙+애플라이트 64기가 팝니다  아이폰6플러스 블랙+애플라이트 64...</td>\n",
              "      <td>iphone 6 64gb</td>\n",
              "      <td>924000</td>\n",
              "      <td>apple</td>\n",
              "      <td>95.96</td>\n",
              "    </tr>\n",
              "    <tr>\n",
              "      <th>1</th>\n",
              "      <td>2016-10-26  12 08 00 PM</td>\n",
              "      <td>380000.0</td>\n",
              "      <td>갤럭시s6엣지 32기가 팝니다 직거래  갤럭시s6엣지 32기가 품명 갤럭시s6엣지제...</td>\n",
              "      <td>galaxy s6 edge 32gb</td>\n",
              "      <td>979000</td>\n",
              "      <td>samsung</td>\n",
              "      <td>103.05</td>\n",
              "    </tr>\n",
              "    <tr>\n",
              "      <th>2</th>\n",
              "      <td>2016-10-25  12 52 00 PM</td>\n",
              "      <td>300000.0</td>\n",
              "      <td>갤럭시s6 풀박스로 팝니다~~~ 새상품급  실기스조차 없어요  직접거래 구매한지 1...</td>\n",
              "      <td>galaxy s6 32gb</td>\n",
              "      <td>854000</td>\n",
              "      <td>samsung</td>\n",
              "      <td>103.05</td>\n",
              "    </tr>\n",
              "    <tr>\n",
              "      <th>3</th>\n",
              "      <td>2017-03-23  11 14 00 PM</td>\n",
              "      <td>290000.0</td>\n",
              "      <td>sk  g5 티탄 폰 단품판매합니다  직접거래 sk g5 티탄 폰 단품판매합니다 올...</td>\n",
              "      <td>lg g5 32gb</td>\n",
              "      <td>836000</td>\n",
              "      <td>lg</td>\n",
              "      <td>95.96</td>\n",
              "    </tr>\n",
              "    <tr>\n",
              "      <th>4</th>\n",
              "      <td>2016-04-11  7 35 00 PM</td>\n",
              "      <td>280000.0</td>\n",
              "      <td>sony 엑스페리아 c5 ultra e5506 16gb  미사용 새제품 팝니다 1...</td>\n",
              "      <td>lg u 32gb</td>\n",
              "      <td>396000</td>\n",
              "      <td>lg</td>\n",
              "      <td>102.59</td>\n",
              "    </tr>\n",
              "  </tbody>\n",
              "</table>\n",
              "</div>"
            ],
            "text/plain": [
              "               create_date     price  ...    maker price_index\n",
              "0   2017-03-19  4 35 00 PM  550000.0  ...    apple       95.96\n",
              "1  2016-10-26  12 08 00 PM  380000.0  ...  samsung      103.05\n",
              "2  2016-10-25  12 52 00 PM  300000.0  ...  samsung      103.05\n",
              "3  2017-03-23  11 14 00 PM  290000.0  ...       lg       95.96\n",
              "4   2016-04-11  7 35 00 PM  280000.0  ...       lg      102.59\n",
              "\n",
              "[5 rows x 7 columns]"
            ]
          },
          "metadata": {
            "tags": []
          },
          "execution_count": 3
        }
      ]
    },
    {
      "cell_type": "code",
      "metadata": {
        "colab": {
          "base_uri": "https://localhost:8080/"
        },
        "id": "8W1xR8I3UTBL",
        "outputId": "000a675c-a1ae-4d2e-e23c-dc63ebd80625"
      },
      "source": [
        "df.isnull().sum()"
      ],
      "execution_count": 4,
      "outputs": [
        {
          "output_type": "execute_result",
          "data": {
            "text/plain": [
              "create_date      0\n",
              "price            0\n",
              "text             0\n",
              "phone_model      0\n",
              "factory_price    0\n",
              "maker            0\n",
              "price_index      0\n",
              "dtype: int64"
            ]
          },
          "metadata": {
            "tags": []
          },
          "execution_count": 4
        }
      ]
    },
    {
      "cell_type": "markdown",
      "metadata": {
        "id": "UQR5JnjGUVyb"
      },
      "source": [
        "-> 결측값 없이 구성됨을 알 수 있다."
      ]
    },
    {
      "cell_type": "markdown",
      "metadata": {
        "id": "DbozsJ7kUXmh"
      },
      "source": [
        "### 개별 feature 탐색"
      ]
    },
    {
      "cell_type": "markdown",
      "metadata": {
        "id": "v7k0eabSUXq3"
      },
      "source": [
        "#### date"
      ]
    },
    {
      "cell_type": "code",
      "metadata": {
        "id": "v0TLz9a2UULC"
      },
      "source": [
        "# create_date로부터 'month' 정보 추출\r\n",
        "df['month'] = df['create_date'].apply(lambda x : x[:7])"
      ],
      "execution_count": 5,
      "outputs": []
    },
    {
      "cell_type": "code",
      "metadata": {
        "colab": {
          "base_uri": "https://localhost:8080/"
        },
        "id": "aZ2Y76eeUa17",
        "outputId": "5d092bcb-0236-4a85-a332-8ce5d2b0d207"
      },
      "source": [
        "# 월별 거래 횟수\r\n",
        "df['month'].value_counts()"
      ],
      "execution_count": 6,
      "outputs": [
        {
          "output_type": "execute_result",
          "data": {
            "text/plain": [
              "2016-10    2956\n",
              "2017-03    1311\n",
              "2016-08     107\n",
              "2016-09     105\n",
              "2016-04     102\n",
              "2016-05      89\n",
              "2016-06      76\n",
              "2016-07      74\n",
              "2016-03      70\n",
              "2016-02      61\n",
              "Name: month, dtype: int64"
            ]
          },
          "metadata": {
            "tags": []
          },
          "execution_count": 6
        }
      ]
    },
    {
      "cell_type": "markdown",
      "metadata": {
        "id": "pwhHvM9wUduR"
      },
      "source": [
        "-> 2016년 10월, 2017년 3월에 집중적으로 수집된 데이터라는 것을 알 수 있다."
      ]
    },
    {
      "cell_type": "code",
      "metadata": {
        "colab": {
          "base_uri": "https://localhost:8080/",
          "height": 263
        },
        "id": "XzNCIE4cUb-M",
        "outputId": "9621b4df-0701-47b4-a3a4-274b3b34e744"
      },
      "source": [
        "# 일별 거래 횟수 시각화 (일자별 시계열 그래프)\r\n",
        "df_day = pd.to_datetime(df['create_date'].apply(lambda x : x[:10])).value_counts()\r\n",
        "df_day.plot()\r\n",
        "plt.show()"
      ],
      "execution_count": 7,
      "outputs": [
        {
          "output_type": "display_data",
          "data": {
            "image/png": "[encoded data removed]",
            "text/plain": [
              "<Figure size 432x288 with 1 Axes>"
            ]
          },
          "metadata": {
            "tags": [],
            "needs_background": "light"
          }
        }
      ]
    },
    {
      "cell_type": "markdown",
      "metadata": {
        "id": "NMdRTFaqUgxE"
      },
      "source": [
        "#### price"
      ]
    },
    {
      "cell_type": "code",
      "metadata": {
        "colab": {
          "base_uri": "https://localhost:8080/",
          "height": 296
        },
        "id": "07jN86yNUe0Z",
        "outputId": "ac68f483-d996-49bc-8f67-d4c9b185f924"
      },
      "source": [
        "# 중고 휴대폰 가격 시각화\r\n",
        "df['price'].hist(bins='auto')"
      ],
      "execution_count": 8,
      "outputs": [
        {
          "output_type": "execute_result",
          "data": {
            "text/plain": [
              "<matplotlib.axes._subplots.AxesSubplot at 0x7f9b928d0b00>"
            ]
          },
          "metadata": {
            "tags": []
          },
          "execution_count": 8
        },
        {
          "output_type": "display_data",
          "data": {
            "image/png": "[encoded data removed]",
            "text/plain": [
              "<Figure size 432x288 with 1 Axes>"
            ]
          },
          "metadata": {
            "tags": [],
            "needs_background": "light"
          }
        }
      ]
    },
    {
      "cell_type": "markdown",
      "metadata": {
        "id": "DovUOgZGUjSA"
      },
      "source": [
        "-> 대부분의 중고 휴대폰이 60만원 이하의 가격대를 형성하고 있으며, 몇몇은 그 이상에도 거래되고 있는 것을 알 수 있다."
      ]
    },
    {
      "cell_type": "markdown",
      "metadata": {
        "id": "l_HeS__2UjW0"
      },
      "source": [
        "- 휴대폰의 동일 기종 내에서의 가격 분포를 보자.  \r\n",
        "    -> 그룹별 평균값, 표준편차 구한 뒤, 모든 price의 z-core 계산해야 됨.  \r\n",
        "    -> 이 값은 '동일 기종' 내에서의 상대적 가격을 나타내는 값!"
      ]
    },
    {
      "cell_type": "code",
      "metadata": {
        "colab": {
          "base_uri": "https://localhost:8080/",
          "height": 282
        },
        "id": "vuqVCNAvUh9P",
        "outputId": "dd011873-dc28-47a7-d7cf-766d8b621de7"
      },
      "source": [
        "# 휴대폰 기종별 가격의 mean, std 계산\r\n",
        "df_price_model_mean = df.groupby('phone_model')['price'].transform(lambda x : np.mean(x))\r\n",
        "df_price_model_std = df.groupby('phone_model')['price'].transform(lambda x : np.std(x))\r\n",
        "\r\n",
        "# 이를 바탕으로 모든 데이터의 z-score 계산\r\n",
        "# 이는 해당 데이터의 가격이 기종별 평균에 비해 어느 정도로 높거나 낮은지를 알 수 있게하는 점수\r\n",
        "df_price_model_z_score = (df['price'] - df_price_model_mean) / df_price_model_std\r\n",
        "df_price_model_z_score.hist(bins='auto')"
      ],
      "execution_count": 9,
      "outputs": [
        {
          "output_type": "execute_result",
          "data": {
            "text/plain": [
              "<matplotlib.axes._subplots.AxesSubplot at 0x7f9b92325400>"
            ]
          },
          "metadata": {
            "tags": []
          },
          "execution_count": 9
        },
        {
          "output_type": "display_data",
          "data": {
            "image/png": "[encoded data removed]",
            "text/plain": [
              "<Figure size 432x288 with 1 Axes>"
            ]
          },
          "metadata": {
            "tags": [],
            "needs_background": "light"
          }
        }
      ]
    },
    {
      "cell_type": "markdown",
      "metadata": {
        "id": "sgoVlTDzUn_f"
      },
      "source": [
        "-> 동일 기종 내에서 price 분포는 정규분포에 가깝다는 것을 알 수 있다. "
      ]
    },
    {
      "cell_type": "markdown",
      "metadata": {
        "id": "BNCAW310Up-j"
      },
      "source": [
        "#### factory_price : 휴대폰 공시가격(출고가)"
      ]
    },
    {
      "cell_type": "code",
      "metadata": {
        "colab": {
          "base_uri": "https://localhost:8080/",
          "height": 296
        },
        "id": "zx0Dfk_EUqli",
        "outputId": "d6145998-536a-41d9-dee5-1a0948b0468d"
      },
      "source": [
        "df['factory_price'].hist(bins='auto')"
      ],
      "execution_count": 10,
      "outputs": [
        {
          "output_type": "execute_result",
          "data": {
            "text/plain": [
              "<matplotlib.axes._subplots.AxesSubplot at 0x7f9b91757710>"
            ]
          },
          "metadata": {
            "tags": []
          },
          "execution_count": 10
        },
        {
          "output_type": "display_data",
          "data": {
            "image/png": "[encoded data removed]",
            "text/plain": [
              "<Figure size 432x288 with 1 Axes>"
            ]
          },
          "metadata": {
            "tags": [],
            "needs_background": "light"
          }
        }
      ]
    },
    {
      "cell_type": "markdown",
      "metadata": {
        "id": "DVQj4ztrUvIy"
      },
      "source": [
        "- factory_price와 price 간의 상관 관계 탐색"
      ]
    },
    {
      "cell_type": "code",
      "metadata": {
        "colab": {
          "base_uri": "https://localhost:8080/",
          "height": 309
        },
        "id": "CMHGlm_0UtOa",
        "outputId": "c0eb93ab-e7eb-4a28-cc06-8e071d0fc809"
      },
      "source": [
        "df.plot.scatter(x='factory_price', y='price')"
      ],
      "execution_count": 11,
      "outputs": [
        {
          "output_type": "execute_result",
          "data": {
            "text/plain": [
              "<matplotlib.axes._subplots.AxesSubplot at 0x7f9b91656128>"
            ]
          },
          "metadata": {
            "tags": []
          },
          "execution_count": 11
        },
        {
          "output_type": "display_data",
          "data": {
            "image/png": "[encoded data removed]",
            "text/plain": [
              "<Figure size 432x288 with 1 Axes>"
            ]
          },
          "metadata": {
            "tags": [],
            "needs_background": "light"
          }
        }
      ]
    },
    {
      "cell_type": "markdown",
      "metadata": {
        "id": "uye21-pBUxmg"
      },
      "source": [
        "-> 두 feature는 양의 상관 관계를 갖고 있다.  \r\n",
        "-> factory_price는 중고 휴대폰 판매 가격에 꽤 중요한 영향을 미칠 것이라고 추정할 수 있다."
      ]
    },
    {
      "cell_type": "markdown",
      "metadata": {
        "id": "EiAaGg8OUxrv"
      },
      "source": [
        "#### phone_model : 휴대폰의 기종"
      ]
    },
    {
      "cell_type": "code",
      "metadata": {
        "colab": {
          "base_uri": "https://localhost:8080/"
        },
        "id": "2bYB0XYaUwQ-",
        "outputId": "04704130-86c9-4870-8e7a-bdf14bf0c292"
      },
      "source": [
        "# 기종별 총 거래 데이터 개수\r\n",
        "model_counts = df['phone_model'].value_counts()\r\n",
        "model_counts.describe()"
      ],
      "execution_count": 12,
      "outputs": [
        {
          "output_type": "execute_result",
          "data": {
            "text/plain": [
              "count      64.000000\n",
              "mean       77.359375\n",
              "std       143.432786\n",
              "min        10.000000\n",
              "25%        23.000000\n",
              "50%        35.000000\n",
              "75%        90.500000\n",
              "max      1002.000000\n",
              "Name: phone_model, dtype: float64"
            ]
          },
          "metadata": {
            "tags": []
          },
          "execution_count": 12
        }
      ]
    },
    {
      "cell_type": "code",
      "metadata": {
        "colab": {
          "base_uri": "https://localhost:8080/",
          "height": 406
        },
        "id": "_FT16NKVU0h8",
        "outputId": "66f6101b-43e1-40b9-e062-18aaaa9af556"
      },
      "source": [
        "plt.boxplot(model_counts)"
      ],
      "execution_count": 13,
      "outputs": [
        {
          "output_type": "execute_result",
          "data": {
            "text/plain": [
              "{'boxes': [<matplotlib.lines.Line2D at 0x7f9b915e6828>],\n",
              " 'caps': [<matplotlib.lines.Line2D at 0x7f9b915f3278>,\n",
              "  <matplotlib.lines.Line2D at 0x7f9b915f35f8>],\n",
              " 'fliers': [<matplotlib.lines.Line2D at 0x7f9b915f3cf8>],\n",
              " 'means': [],\n",
              " 'medians': [<matplotlib.lines.Line2D at 0x7f9b915f3978>],\n",
              " 'whiskers': [<matplotlib.lines.Line2D at 0x7f9b915e6b38>,\n",
              "  <matplotlib.lines.Line2D at 0x7f9b915e6eb8>]}"
            ]
          },
          "metadata": {
            "tags": []
          },
          "execution_count": 13
        },
        {
          "output_type": "display_data",
          "data": {
            "image/png": "[encoded data removed]",
            "text/plain": [
              "<Figure size 432x288 with 1 Axes>"
            ]
          },
          "metadata": {
            "tags": [],
            "needs_background": "light"
          }
        }
      ]
    },
    {
      "cell_type": "markdown",
      "metadata": {
        "id": "f4MMfmePU2-u"
      },
      "source": [
        "-> 상위 5개의 기종을 제외하면 대부분 10 ~ 90개 사이의 데이터를 가지고 있다.\r\n"
      ]
    },
    {
      "cell_type": "markdown",
      "metadata": {
        "id": "bJhq5rySU4Ec"
      },
      "source": [
        "#### maker : 휴대폰 제조사"
      ]
    },
    {
      "cell_type": "code",
      "metadata": {
        "colab": {
          "base_uri": "https://localhost:8080/"
        },
        "id": "qqwNMFavU4iw",
        "outputId": "61b564b2-8339-4e82-da45-8448afd2614a"
      },
      "source": [
        "maker_counts = df['maker'].value_counts()\r\n",
        "maker_counts"
      ],
      "execution_count": 14,
      "outputs": [
        {
          "output_type": "execute_result",
          "data": {
            "text/plain": [
              "apple      2450\n",
              "samsung    1642\n",
              "lg          677\n",
              "pantech      57\n",
              "sony         37\n",
              "huawei       35\n",
              "tg           28\n",
              "sky          25\n",
              "Name: maker, dtype: int64"
            ]
          },
          "metadata": {
            "tags": []
          },
          "execution_count": 14
        }
      ]
    },
    {
      "cell_type": "code",
      "metadata": {
        "colab": {
          "base_uri": "https://localhost:8080/",
          "height": 406
        },
        "id": "ibukkGanU6uY",
        "outputId": "5407bd48-60a9-41d9-aea3-b79d13827d02"
      },
      "source": [
        "plt.boxplot(maker_counts)"
      ],
      "execution_count": 15,
      "outputs": [
        {
          "output_type": "execute_result",
          "data": {
            "text/plain": [
              "{'boxes': [<matplotlib.lines.Line2D at 0x7f9b9154c630>],\n",
              " 'caps': [<matplotlib.lines.Line2D at 0x7f9b91558080>,\n",
              "  <matplotlib.lines.Line2D at 0x7f9b91558400>],\n",
              " 'fliers': [<matplotlib.lines.Line2D at 0x7f9b91558b00>],\n",
              " 'means': [],\n",
              " 'medians': [<matplotlib.lines.Line2D at 0x7f9b91558780>],\n",
              " 'whiskers': [<matplotlib.lines.Line2D at 0x7f9b9154c940>,\n",
              "  <matplotlib.lines.Line2D at 0x7f9b9154ccc0>]}"
            ]
          },
          "metadata": {
            "tags": []
          },
          "execution_count": 15
        },
        {
          "output_type": "display_data",
          "data": {
            "image/png": "[encoded data removed]",
            "text/plain": [
              "<Figure size 432x288 with 1 Axes>"
            ]
          },
          "metadata": {
            "tags": [],
            "needs_background": "light"
          }
        }
      ]
    },
    {
      "cell_type": "markdown",
      "metadata": {
        "id": "U3lxOMF_U9HF"
      },
      "source": [
        "-> 3개의 제조사가 대부분의 데이터를 대표하고 있는 것을 알 수 있다."
      ]
    },
    {
      "cell_type": "markdown",
      "metadata": {
        "id": "hz0j6j41U9ek"
      },
      "source": [
        "#### price_index : 판매 게시글이 올라온 시점에서의 휴대폰 물가 지수 데이터\r\n"
      ]
    },
    {
      "cell_type": "code",
      "metadata": {
        "colab": {
          "base_uri": "https://localhost:8080/"
        },
        "id": "t81C1ULHU7wD",
        "outputId": "ed872fb8-adee-4437-b89a-99a131935ac9"
      },
      "source": [
        "df['price_index'].value_counts()"
      ],
      "execution_count": 16,
      "outputs": [
        {
          "output_type": "execute_result",
          "data": {
            "text/plain": [
              "103.05    3061\n",
              "95.96     1311\n",
              "102.59     448\n",
              "94.90      131\n",
              "Name: price_index, dtype: int64"
            ]
          },
          "metadata": {
            "tags": []
          },
          "execution_count": 16
        }
      ]
    },
    {
      "cell_type": "markdown",
      "metadata": {
        "id": "3AR3Yj6gVBS3"
      },
      "source": [
        "-> 핸드폰 물가의 변동률은 매 달마다 일어나지 않는다는 것을 알 수 있다."
      ]
    },
    {
      "cell_type": "markdown",
      "metadata": {
        "id": "tXAD_CR4VC4o"
      },
      "source": [
        "### Random forest regressor를 이용한 가격 예측"
      ]
    },
    {
      "cell_type": "markdown",
      "metadata": {
        "id": "nEasBCOUVEA4"
      },
      "source": [
        "<랜덤 포레스트 모델>  \r\n",
        "- Decision Tree 분석 방법을 응용한 것\r\n",
        "- Decision Tree를 여러 개 모아 하나의 숲을 구성하는 방법\r\n",
        "- 하나의 모델이 정답을 푸는 것이 아닌, 여러 개의 모델이 정답을 함께 푸는 것이기 때문에 더 정확한 학습이 가능\r\n",
        "- 또한, 모델이 생성되는 과정에서의 feature 중요도를 계산하기 때문에 EDA에 자주 사용됨.\r\n",
        "- 회귀, 분류 두 가지에 모두 적용 가능"
      ]
    },
    {
      "cell_type": "code",
      "metadata": {
        "colab": {
          "base_uri": "https://localhost:8080/",
          "height": 765
        },
        "id": "jtW71SQbVAIM",
        "outputId": "631f9299-f833-45a3-8860-c48711602afb"
      },
      "source": [
        "df.head(2)"
      ],
      "execution_count": 17,
      "outputs": [
        {
          "output_type": "execute_result",
          "data": {
            "text/html": [
              "<div>\n",
              "<style scoped>\n",
              "    .dataframe tbody tr th:only-of-type {\n",
              "        vertical-align: middle;\n",
              "    }\n",
              "\n",
              "    .dataframe tbody tr th {\n",
              "        vertical-align: top;\n",
              "    }\n",
              "\n",
              "    .dataframe thead th {\n",
              "        text-align: right;\n",
              "    }\n",
              "</style>\n",
              "<table border=\"1\" class=\"dataframe\">\n",
              "  <thead>\n",
              "    <tr style=\"text-align: right;\">\n",
              "      <th></th>\n",
              "      <th>create_date</th>\n",
              "      <th>price</th>\n",
              "      <th>text</th>\n",
              "      <th>phone_model</th>\n",
              "      <th>factory_price</th>\n",
              "      <th>maker</th>\n",
              "      <th>price_index</th>\n",
              "      <th>month</th>\n",
              "    </tr>\n",
              "  </thead>\n",
              "  <tbody>\n",
              "    <tr>\n",
              "      <th>0</th>\n",
              "      <td>2017-03-19  4 35 00 PM</td>\n",
              "      <td>550000.0</td>\n",
              "      <td>아이폰6플러스 블랙+애플라이트 64기가 팝니다  아이폰6플러스 블랙+애플라이트 64...</td>\n",
              "      <td>iphone 6 64gb</td>\n",
              "      <td>924000</td>\n",
              "      <td>apple</td>\n",
              "      <td>95.96</td>\n",
              "      <td>2017-03</td>\n",
              "    </tr>\n",
              "    <tr>\n",
              "      <th>1</th>\n",
              "      <td>2016-10-26  12 08 00 PM</td>\n",
              "      <td>380000.0</td>\n",
              "      <td>갤럭시s6엣지 32기가 팝니다 직거래  갤럭시s6엣지 32기가 품명 갤럭시s6엣지제...</td>\n",
              "      <td>galaxy s6 edge 32gb</td>\n",
              "      <td>979000</td>\n",
              "      <td>samsung</td>\n",
              "      <td>103.05</td>\n",
              "      <td>2016-10</td>\n",
              "    </tr>\n",
              "  </tbody>\n",
              "</table>\n",
              "</div>"
            ],
            "text/plain": [
              "               create_date     price  ... price_index    month\n",
              "0   2017-03-19  4 35 00 PM  550000.0  ...       95.96  2017-03\n",
              "1  2016-10-26  12 08 00 PM  380000.0  ...      103.05  2016-10\n",
              "\n",
              "[2 rows x 8 columns]"
            ]
          },
          "metadata": {
            "tags": []
          },
          "execution_count": 17
        }
      ]
    },
    {
      "cell_type": "code",
      "metadata": {
        "id": "mqFbKid6VGMp"
      },
      "source": [
        "from sklearn.model_selection import train_test_split\r\n",
        "from sklearn.feature_extraction import DictVectorizer\r\n",
        "from sklearn.ensemble import RandomForestRegressor\r\n",
        "from sklearn.metrics import r2_score\r\n",
        "from sklearn.metrics import mean_squared_error\r\n",
        "\r\n",
        "df = df[['price', 'phone_model', 'factory_price', 'maker', 'price_index', 'month']]\r\n",
        "df = pd.get_dummies(df, columns=['phone_model', 'maker', 'month'])\r\n",
        "\r\n",
        "X = df.loc[:, df.columns != 'price']\r\n",
        "y = df['price']\r\n",
        "X_train, X_test, y_train, y_test = train_test_split(X, y, test_size=0.3, random_state=0)"
      ],
      "execution_count": 18,
      "outputs": []
    },
    {
      "cell_type": "code",
      "metadata": {
        "colab": {
          "base_uri": "https://localhost:8080/"
        },
        "id": "sCtgnqtCVH2K",
        "outputId": "6825ba8c-857a-4566-b73e-e7a6793ffd15"
      },
      "source": [
        "# 랜덤 포레스트 모델 학습\r\n",
        "forest = RandomForestRegressor(n_estimators=1000,\r\n",
        "                              criterion='mse')\r\n",
        "forest.fit(X_train, y_train)\r\n",
        "\r\n",
        "y_train_pred = forest.predict(X_train)\r\n",
        "y_test_pred = forest.predict(X_test)\r\n",
        "\r\n",
        "# 학습한 모델 평가\r\n",
        "print('MSE train: %.3f, test: %.3f' % (\r\n",
        "        mean_squared_error(y_train, y_train_pred),\r\n",
        "        mean_squared_error(y_test, y_test_pred)))\r\n",
        "\r\n",
        "print('R^2 train: %.3f, test: %.3f' % (\r\n",
        "        r2_score(y_train, y_train_pred),\r\n",
        "        r2_score(y_test, y_test_pred)))"
      ],
      "execution_count": 19,
      "outputs": [
        {
          "output_type": "stream",
          "text": [
            "MSE train: 10618709947.784, test: 13858442343.685\n",
            "R^2 train: 0.781, test: 0.683\n"
          ],
          "name": "stdout"
        }
      ]
    },
    {
      "cell_type": "markdown",
      "metadata": {
        "id": "eS8BZFEgVO_a"
      },
      "source": [
        "-> train score와 test score의 차이가 심한 것을 미루어 볼 때, 이 예측 모델은 overfitting이 일어났다고 볼 수 있다."
      ]
    },
    {
      "cell_type": "markdown",
      "metadata": {
        "id": "2pDzoewtVPEU"
      },
      "source": [
        "#### 피처 중요도"
      ]
    },
    {
      "cell_type": "code",
      "metadata": {
        "colab": {
          "base_uri": "https://localhost:8080/",
          "height": 282
        },
        "id": "0L_4criDVJ3N",
        "outputId": "34f22cef-0016-4a7d-cbb6-c1a903538214"
      },
      "source": [
        "# 학습한 모델의 피처 중요도를 그래프로 살펴보자.\r\n",
        "importances = forest.feature_importances_\r\n",
        "indices = np.argsort(importances)[::-1] # 중요도 높은 순으로 정렬\r\n",
        "plt.bar(range(X.shape[1]), importances[indices])"
      ],
      "execution_count": 20,
      "outputs": [
        {
          "output_type": "execute_result",
          "data": {
            "text/plain": [
              "<BarContainer object of 84 artists>"
            ]
          },
          "metadata": {
            "tags": []
          },
          "execution_count": 20
        },
        {
          "output_type": "display_data",
          "data": {
            "image/png": "[encoded data removed]",
            "text/plain": [
              "<Figure size 432x288 with 1 Axes>"
            ]
          },
          "metadata": {
            "tags": [],
            "needs_background": "light"
          }
        }
      ]
    },
    {
      "cell_type": "code",
      "metadata": {
        "colab": {
          "base_uri": "https://localhost:8080/"
        },
        "id": "4ca3ZGlCVR9S",
        "outputId": "fcdad2cb-4b81-4ad4-dfe1-7c4e936c0444"
      },
      "source": [
        "# 학습한 모델의 피처 중요도 출력\r\n",
        "feat_labels = X.columns.tolist()\r\n",
        "feature = list(zip(feat_labels, forest.feature_importances_))\r\n",
        "sorted(feature, key=lambda tup: tup[1], reverse=True)[:10]"
      ],
      "execution_count": 21,
      "outputs": [
        {
          "output_type": "execute_result",
          "data": {
            "text/plain": [
              "[('factory_price', 0.40499025880948913),\n",
              " ('maker_apple', 0.2972937380927599),\n",
              " ('phone_model_galaxy s3 3g 8gb', 0.022615975864557016),\n",
              " ('phone_model_iphone se 64gb', 0.021670714265040837),\n",
              " ('price_index', 0.020600837760552444),\n",
              " ('phone_model_galaxy s4 32gb', 0.016215281176546924),\n",
              " ('month_2017-03', 0.014893827549648454),\n",
              " ('maker_samsung', 0.014351377234268586),\n",
              " ('phone_model_galaxy s6 32gb', 0.012652354975677429),\n",
              " ('month_2016-05', 0.011063308404311125)]"
            ]
          },
          "metadata": {
            "tags": []
          },
          "execution_count": 21
        }
      ]
    },
    {
      "cell_type": "markdown",
      "metadata": {
        "id": "4CvXmRQgVUXb"
      },
      "source": [
        "#### 시간이 모델에 미치는 영향 확인"
      ]
    },
    {
      "cell_type": "code",
      "metadata": {
        "colab": {
          "base_uri": "https://localhost:8080/"
        },
        "id": "8_glQcAhVTA_",
        "outputId": "1a6dd877-f87d-481a-8b08-36b2e21e50e0"
      },
      "source": [
        "# month 피처 중요도 확인\r\n",
        "for sorted_feature in sorted(feature, key=lambda tup : tup[1], reverse=True):\r\n",
        "    if 'month' in sorted_feature[0]:\r\n",
        "        print(sorted_feature)"
      ],
      "execution_count": 22,
      "outputs": [
        {
          "output_type": "stream",
          "text": [
            "('month_2017-03', 0.014893827549648454)\n",
            "('month_2016-05', 0.011063308404311125)\n",
            "('month_2016-09', 0.008696283810970583)\n",
            "('month_2016-04', 0.007574771313265028)\n",
            "('month_2016-10', 0.006305774604509536)\n",
            "('month_2016-06', 0.004365323989014845)\n",
            "('month_2016-08', 0.003646592738677108)\n",
            "('month_2016-07', 0.0027569444197759474)\n",
            "('month_2016-03', 0.0023088397254208562)\n",
            "('month_2016-02', 0.001016813111580157)\n"
          ],
          "name": "stdout"
        }
      ]
    },
    {
      "cell_type": "markdown",
      "metadata": {
        "id": "CUMZuuquVW97"
      },
      "source": [
        "-> 최근에 가까운 'month'일수록 피처 중요도가 높은 것을 알 수 있다."
      ]
    },
    {
      "cell_type": "markdown",
      "metadata": {
        "id": "QbCUG6Q6VYIq"
      },
      "source": [
        "#### 예측 결과 scatter plot\r\n"
      ]
    },
    {
      "cell_type": "code",
      "metadata": {
        "colab": {
          "base_uri": "https://localhost:8080/",
          "height": 306
        },
        "id": "67eLhKT9VVjU",
        "outputId": "00bcc3bb-5e35-45d8-c074-36e5f68c5227"
      },
      "source": [
        "plt.scatter(y_test.values, y_test_pred)"
      ],
      "execution_count": 23,
      "outputs": [
        {
          "output_type": "execute_result",
          "data": {
            "text/plain": [
              "<matplotlib.collections.PathCollection at 0x7f9b8c201080>"
            ]
          },
          "metadata": {
            "tags": []
          },
          "execution_count": 23
        },
        {
          "output_type": "display_data",
          "data": {
            "image/png": "[encoded data removed]",
            "text/plain": [
              "<Figure size 432x288 with 1 Axes>"
            ]
          },
          "metadata": {
            "tags": [],
            "needs_background": "light"
          }
        }
      ]
    },
    {
      "cell_type": "markdown",
      "metadata": {
        "id": "ib_Jgv-0Xk0q"
      },
      "source": [
        "## 2. feature engineering : 예측 모델 개선"
      ]
    },
    {
      "cell_type": "markdown",
      "metadata": {
        "id": "_TCxGiKTXk6q"
      },
      "source": [
        "- date  \r\n",
        ": 월 단위로 살펴본 결과, 2016년 10월과 2017년 3월의 데이터가 가장 많다. 최근에 가까운 month일수록 예측 모델에 중요한 feature이다.  \r\n",
        "        => 게시글의 등록 month 파생 가능  \r\n",
        "\r\n",
        "\r\n",
        "- price  \r\n",
        ": 전체 휴대폰의 거래가와 달리, 기종별 가격의 분포는 정규 분포의 형태를 띠고 있다.  \r\n",
        "        => 동일 기종 내 상대 가격 (z-score)  \r\n",
        " \r\n",
        " \r\n",
        "- factory_price  \r\n",
        ": price와의 양의 상관 관계가 관찰된다. 또한, 예측 모델의 피처 중요도 분석 결과, 가장 중요한 feature로 나타났다.  \r\n",
        "\r\n",
        "\r\n",
        "- phone_model  \r\n",
        ": 소수의 인기 기종이 많은 데이터를 가지고 있다.  \r\n",
        "        => 휴대폰 세부 기종, 용량으로 분리한 2개의 feature  \r\n",
        "    \r\n",
        "    \r\n",
        "- maker  \r\n",
        ": Apple 브랜드가 가장 많으며, 가격 예측에서도 Apple 브랜드 여부는 가장 중요한 feature 중 하나이다.  \r\n",
        "\r\n",
        "\r\n",
        "- price_index  \r\n",
        ": 월별 변동이 크지 않으며, 총 4개의 값만 갖고 있다. 가격 예측에서 그다지 중요한 feature는 아니다. "
      ]
    },
    {
      "cell_type": "markdown",
      "metadata": {
        "id": "IFYxt9rFXpkB"
      },
      "source": [
        "### 기존 feature 가공"
      ]
    },
    {
      "cell_type": "code",
      "metadata": {
        "id": "NxU4RrbZXisw"
      },
      "source": [
        "# data 다시 불러오기\r\n",
        "df = pd.read_csv('/content/gdrive/MyDrive/Colab Notebooks/data/used_mobile_phone.csv')"
      ],
      "execution_count": 24,
      "outputs": []
    },
    {
      "cell_type": "markdown",
      "metadata": {
        "id": "bLAHTfb6XyGR"
      },
      "source": [
        "#### create_date로 시간점수 생성"
      ]
    },
    {
      "cell_type": "markdown",
      "metadata": {
        "id": "GpzfAOfRXyKR"
      },
      "source": [
        "1) create_data를 unixtime으로 변환한다.  \r\n",
        "unixtime은 시간을 정수로 표현한 것이며, 값이 클수록 '최근'에 가까워진다.  \r\n",
        "\r\n",
        "2) min-max scaling을 적용하여 unixtime을 상대적인 점수로 계산한다.  \r\n",
        "\r\n",
        "3) 점수가 1에 가까울수록 최근에 작성한 게시물을 의미하며, 0에 가까울수록 오래된 게시물을 의미한다."
      ]
    },
    {
      "cell_type": "code",
      "metadata": {
        "colab": {
          "base_uri": "https://localhost:8080/"
        },
        "id": "RKXSY3k0XwCl",
        "outputId": "1487dc5f-0138-4425-df10-7566121a5063"
      },
      "source": [
        "from datetime import datetime\r\n",
        "import time\r\n",
        "\r\n",
        "# create_date feature를 수치적으로 계산하기 위해, unixtime으로 변환하는 함수를 정의\r\n",
        "def date_to_unixtime(date_str):\r\n",
        "    timestamp = time. mktime(datetime.strptime(date_str, '%Y-%m-%d').timetuple())\r\n",
        "    return timestamp\r\n",
        "\r\n",
        "# create_date feature를 '현재와 얼마나 가까운 데이터인지' 판단하기 위한 점수를 생성.\r\n",
        "# 먼저 unixtime으로 데이터를 변환\r\n",
        "df['create_unixtime'] = df['create_date'].apply(lambda x : date_to_unixtime(x[:10]))\r\n",
        "df['create_unixtime'][:10]"
      ],
      "execution_count": 25,
      "outputs": [
        {
          "output_type": "execute_result",
          "data": {
            "text/plain": [
              "0    1.489882e+09\n",
              "1    1.477440e+09\n",
              "2    1.477354e+09\n",
              "3    1.490227e+09\n",
              "4    1.460333e+09\n",
              "5    1.490141e+09\n",
              "6    1.490227e+09\n",
              "7    1.475798e+09\n",
              "8    1.490400e+09\n",
              "9    1.458691e+09\n",
              "Name: create_unixtime, dtype: float64"
            ]
          },
          "metadata": {
            "tags": []
          },
          "execution_count": 25
        }
      ]
    },
    {
      "cell_type": "code",
      "metadata": {
        "colab": {
          "base_uri": "https://localhost:8080/",
          "height": 195
        },
        "id": "gpuUv3DJX1AO",
        "outputId": "35be76d3-2b70-4eb6-9fc4-b155d3b9eec9"
      },
      "source": [
        "# 변환된 unixtime에 min-max scaling 적용\r\n",
        "df['create_time_score'] = (df['create_unixtime'] - df['create_unixtime'].min()) / \\\r\n",
        "(df['create_unixtime'].max() - df['create_unixtime'].min())\r\n",
        "df[['create_date', 'create_unixtime', 'create_time_score']].head()"
      ],
      "execution_count": 26,
      "outputs": [
        {
          "output_type": "execute_result",
          "data": {
            "text/html": [
              "<div>\n",
              "<style scoped>\n",
              "    .dataframe tbody tr th:only-of-type {\n",
              "        vertical-align: middle;\n",
              "    }\n",
              "\n",
              "    .dataframe tbody tr th {\n",
              "        vertical-align: top;\n",
              "    }\n",
              "\n",
              "    .dataframe thead th {\n",
              "        text-align: right;\n",
              "    }\n",
              "</style>\n",
              "<table border=\"1\" class=\"dataframe\">\n",
              "  <thead>\n",
              "    <tr style=\"text-align: right;\">\n",
              "      <th></th>\n",
              "      <th>create_date</th>\n",
              "      <th>create_unixtime</th>\n",
              "      <th>create_time_score</th>\n",
              "    </tr>\n",
              "  </thead>\n",
              "  <tbody>\n",
              "    <tr>\n",
              "      <th>0</th>\n",
              "      <td>2017-03-19  4 35 00 PM</td>\n",
              "      <td>1.489882e+09</td>\n",
              "      <td>0.985612</td>\n",
              "    </tr>\n",
              "    <tr>\n",
              "      <th>1</th>\n",
              "      <td>2016-10-26  12 08 00 PM</td>\n",
              "      <td>1.477440e+09</td>\n",
              "      <td>0.640288</td>\n",
              "    </tr>\n",
              "    <tr>\n",
              "      <th>2</th>\n",
              "      <td>2016-10-25  12 52 00 PM</td>\n",
              "      <td>1.477354e+09</td>\n",
              "      <td>0.637890</td>\n",
              "    </tr>\n",
              "    <tr>\n",
              "      <th>3</th>\n",
              "      <td>2017-03-23  11 14 00 PM</td>\n",
              "      <td>1.490227e+09</td>\n",
              "      <td>0.995204</td>\n",
              "    </tr>\n",
              "    <tr>\n",
              "      <th>4</th>\n",
              "      <td>2016-04-11  7 35 00 PM</td>\n",
              "      <td>1.460333e+09</td>\n",
              "      <td>0.165468</td>\n",
              "    </tr>\n",
              "  </tbody>\n",
              "</table>\n",
              "</div>"
            ],
            "text/plain": [
              "               create_date  create_unixtime  create_time_score\n",
              "0   2017-03-19  4 35 00 PM     1.489882e+09           0.985612\n",
              "1  2016-10-26  12 08 00 PM     1.477440e+09           0.640288\n",
              "2  2016-10-25  12 52 00 PM     1.477354e+09           0.637890\n",
              "3  2017-03-23  11 14 00 PM     1.490227e+09           0.995204\n",
              "4   2016-04-11  7 35 00 PM     1.460333e+09           0.165468"
            ]
          },
          "metadata": {
            "tags": []
          },
          "execution_count": 26
        }
      ]
    },
    {
      "cell_type": "markdown",
      "metadata": {
        "id": "jYuBOJXXX29w"
      },
      "source": [
        "#### phone_model 분리"
      ]
    },
    {
      "cell_type": "code",
      "metadata": {
        "colab": {
          "base_uri": "https://localhost:8080/"
        },
        "id": "H8ISN3glX2S_",
        "outputId": "9d4e80b9-8c17-4bea-e14c-38c3c1b292e0"
      },
      "source": [
        "df['phone_model'].head()"
      ],
      "execution_count": 27,
      "outputs": [
        {
          "output_type": "execute_result",
          "data": {
            "text/plain": [
              "0          iphone 6 64gb\n",
              "1    galaxy s6 edge 32gb\n",
              "2         galaxy s6 32gb\n",
              "3             lg g5 32gb\n",
              "4              lg u 32gb\n",
              "Name: phone_model, dtype: object"
            ]
          },
          "metadata": {
            "tags": []
          },
          "execution_count": 27
        }
      ]
    },
    {
      "cell_type": "markdown",
      "metadata": {
        "id": "rzqxZ7bLX5hs"
      },
      "source": [
        "-> '제품명 + 용량'으로 구성되어 있기 때문에 이를 나누어주자."
      ]
    },
    {
      "cell_type": "code",
      "metadata": {
        "colab": {
          "base_uri": "https://localhost:8080/",
          "height": 195
        },
        "id": "FSUF4CkGX4-c",
        "outputId": "5ade5b11-0935-44fa-de57-fb8db25eb396"
      },
      "source": [
        "# 저장 용량(phone_model_storage)\r\n",
        "df['phone_model_storage'] = df['phone_model'].apply(lambda x : x.split(\" \")[-1])\r\n",
        "\r\n",
        "# 기종 세부명(phone_model_detail)\r\n",
        "df['phone_model_detail'] = df['phone_model'].apply(lambda x: ' '.join(x.split(\" \")[:-1]))\r\n",
        "\r\n",
        "df[['phone_model_storage', 'phone_model_detail']].head()"
      ],
      "execution_count": 28,
      "outputs": [
        {
          "output_type": "execute_result",
          "data": {
            "text/html": [
              "<div>\n",
              "<style scoped>\n",
              "    .dataframe tbody tr th:only-of-type {\n",
              "        vertical-align: middle;\n",
              "    }\n",
              "\n",
              "    .dataframe tbody tr th {\n",
              "        vertical-align: top;\n",
              "    }\n",
              "\n",
              "    .dataframe thead th {\n",
              "        text-align: right;\n",
              "    }\n",
              "</style>\n",
              "<table border=\"1\" class=\"dataframe\">\n",
              "  <thead>\n",
              "    <tr style=\"text-align: right;\">\n",
              "      <th></th>\n",
              "      <th>phone_model_storage</th>\n",
              "      <th>phone_model_detail</th>\n",
              "    </tr>\n",
              "  </thead>\n",
              "  <tbody>\n",
              "    <tr>\n",
              "      <th>0</th>\n",
              "      <td>64gb</td>\n",
              "      <td>iphone 6</td>\n",
              "    </tr>\n",
              "    <tr>\n",
              "      <th>1</th>\n",
              "      <td>32gb</td>\n",
              "      <td>galaxy s6 edge</td>\n",
              "    </tr>\n",
              "    <tr>\n",
              "      <th>2</th>\n",
              "      <td>32gb</td>\n",
              "      <td>galaxy s6</td>\n",
              "    </tr>\n",
              "    <tr>\n",
              "      <th>3</th>\n",
              "      <td>32gb</td>\n",
              "      <td>lg g5</td>\n",
              "    </tr>\n",
              "    <tr>\n",
              "      <th>4</th>\n",
              "      <td>32gb</td>\n",
              "      <td>lg u</td>\n",
              "    </tr>\n",
              "  </tbody>\n",
              "</table>\n",
              "</div>"
            ],
            "text/plain": [
              "  phone_model_storage phone_model_detail\n",
              "0                64gb           iphone 6\n",
              "1                32gb     galaxy s6 edge\n",
              "2                32gb          galaxy s6\n",
              "3                32gb              lg g5\n",
              "4                32gb               lg u"
            ]
          },
          "metadata": {
            "tags": []
          },
          "execution_count": 28
        }
      ]
    },
    {
      "cell_type": "code",
      "metadata": {
        "colab": {
          "base_uri": "https://localhost:8080/",
          "height": 529
        },
        "id": "z7KTiFn9X77X",
        "outputId": "8e800786-92d9-458d-d45d-c0d38f46a329"
      },
      "source": [
        "# phone_model : 기종별 거래 데이터 개수\r\n",
        "model_counts = df['phone_model'].value_counts()\r\n",
        "\r\n",
        "# phone_model_detail : 기종별 거래 데이터 개수\r\n",
        "model_detail_counts = df['phone_model_detail'].value_counts()\r\n",
        "\r\n",
        "data = [model_counts, model_detail_counts]\r\n",
        "\r\n",
        "# 두 feature 간의 기종별 거래 데이터 개수를 비교\r\n",
        "mpl_fig = plt.figure()\r\n",
        "ax = mpl_fig.add_subplot(111) # == fig.add_subplot(1,1,1)\r\n",
        "ax.boxplot(data)"
      ],
      "execution_count": 29,
      "outputs": [
        {
          "output_type": "execute_result",
          "data": {
            "text/plain": [
              "{'boxes': [<matplotlib.lines.Line2D at 0x7f9b8bec2c88>,\n",
              "  <matplotlib.lines.Line2D at 0x7f9b8beda4a8>],\n",
              " 'caps': [<matplotlib.lines.Line2D at 0x7f9b8bed06a0>,\n",
              "  <matplotlib.lines.Line2D at 0x7f9b8bed0a20>,\n",
              "  <matplotlib.lines.Line2D at 0x7f9b8bedaf60>,\n",
              "  <matplotlib.lines.Line2D at 0x7f9b8bee5320>],\n",
              " 'fliers': [<matplotlib.lines.Line2D at 0x7f9b8beda160>,\n",
              "  <matplotlib.lines.Line2D at 0x7f9b8bee5a20>],\n",
              " 'means': [],\n",
              " 'medians': [<matplotlib.lines.Line2D at 0x7f9b8bed0da0>,\n",
              "  <matplotlib.lines.Line2D at 0x7f9b8bee56a0>],\n",
              " 'whiskers': [<matplotlib.lines.Line2D at 0x7f9b8bec2f60>,\n",
              "  <matplotlib.lines.Line2D at 0x7f9b8bed0320>,\n",
              "  <matplotlib.lines.Line2D at 0x7f9b8beda860>,\n",
              "  <matplotlib.lines.Line2D at 0x7f9b8bedabe0>]}"
            ]
          },
          "metadata": {
            "tags": []
          },
          "execution_count": 29
        },
        {
          "output_type": "display_data",
          "data": {
            "image/png": "[encoded data removed]",
            "text/plain": [
              "<Figure size 432x288 with 1 Axes>"
            ]
          },
          "metadata": {
            "tags": [],
            "needs_background": "light"
          }
        }
      ]
    },
    {
      "cell_type": "markdown",
      "metadata": {
        "id": "zBGTr3NFX_Aw"
      },
      "source": [
        "<feature를 분리함으로써 얻을 수 있는 효과>  \r\n",
        "-> 쏠림 현상이 심해진 하나의 기종을 제외하면 전체적인 분포가 안정적으로 변한 것을 알 수 있다.  \r\n",
        "-> 게다가 분석에 덤으로 사용할 수 있는 'phone_model_storage'라는 새로운 feature까지 생김"
      ]
    },
    {
      "cell_type": "markdown",
      "metadata": {
        "id": "HVI_rhYvYBS-"
      },
      "source": [
        "#### phone_model 관련 딕셔너리 생성"
      ]
    },
    {
      "cell_type": "code",
      "metadata": {
        "colab": {
          "base_uri": "https://localhost:8080/"
        },
        "id": "CDZ-S0kqX9KE",
        "outputId": "9b79b259-510f-41f5-8756-2a85f3086127"
      },
      "source": [
        "# 기종명 + 용량으로 출고가를 찾기 위한 딕셔너리를 생성\r\n",
        "model_to_factory_price_dict = {}\r\n",
        "for index, row in df.iterrows():\r\n",
        "    model_concat = (row['phone_model_detail'], row['phone_model_storage'])\r\n",
        "    if model_concat in model_to_factory_price_dict:\r\n",
        "        pass\r\n",
        "    else:\r\n",
        "        model_to_factory_price_dict[model_concat] = row['factory_price']\r\n",
        "print(str(model_to_factory_price_dict)[:40], '...')"
      ],
      "execution_count": 30,
      "outputs": [
        {
          "output_type": "stream",
          "text": [
            "{('iphone 6', '64gb'): 924000, ('galaxy  ...\n"
          ],
          "name": "stdout"
        }
      ]
    },
    {
      "cell_type": "markdown",
      "metadata": {
        "id": "o3UHZEkSYK_C"
      },
      "source": [
        "### 감성분석으로 물품의 상태 분류"
      ]
    },
    {
      "cell_type": "markdown",
      "metadata": {
        "id": "4m5eFTYFYLEQ"
      },
      "source": [
        "- 텍스트 정보에는 물품의 상태가 나타나 있을 것  \r\n",
        "    -> 가격 예측에 영향 미칠 것이다.  \r\n",
        "    -> 물품의 상태를 분류할 수 있는 __감성 분류__가 필요하다.  \r\n",
        "    \r\n",
        "\r\n",
        "- 감성 분류의 정답 __'상태가 좋다' / '상태가 나쁘다'__의 판단 방법?  \r\n",
        "    -> __'기종별 가격의 분포는 정규분포다'__라는 정보 활용하자!  \r\n",
        "    \r\n",
        "> 1) price를 같은 기종 내에서의 z-score로 변환한다.  \r\n",
        "> 2) z-score 기준, 상위 5%에 속하는 가격의 게시글은 '상태가 좋음', 하위 5%는 '상태가 나쁨', 그리고 그 외는 '보통'으로 판단.  \r\n",
        "> 3) 정의한 세 가지 상태를 감성 분류의 정답 데이터로 사용"
      ]
    },
    {
      "cell_type": "code",
      "metadata": {
        "id": "07UJgQ-2YIyD"
      },
      "source": [
        "# 거래 가격(price)의 z-score 계산\r\n",
        "# 이는 해당 데이터의 가격이 기종의 평균에 비해 어느정도로 높거나 낮은지를 알 수 있게 하는 점수이다. \r\n",
        "df['price_by_group'] = df.groupby('phone_model_detail')['price'].transform(lambda x: (x - x.mean()) / x.std())"
      ],
      "execution_count": 31,
      "outputs": []
    },
    {
      "cell_type": "code",
      "metadata": {
        "colab": {
          "base_uri": "https://localhost:8080/",
          "height": 300
        },
        "id": "mjwO9B82YO4P",
        "outputId": "d26a5ca5-28d1-4b7d-e19f-53ac82df9b98"
      },
      "source": [
        "# 거래 가격의 z-score(price_by_group)의 분포 시각화\r\n",
        "ax = df['price_by_group'].hist(bins='auto')\r\n",
        "\r\n",
        "# z-score(price_by_group) 기준으로 하위 5%, 상위 5%에 해당하는 점수를 \r\n",
        "# lower_bound, upper_bound 라고 지정\r\n",
        "lower_bound = df['price_by_group'].quantile(0.05)\r\n",
        "upper_bound = df['price_by_group'].quantile(0.95)\r\n",
        "\r\n",
        "# lower_bound, upper_bound 그래프에 추가\r\n",
        "ax.axvline(x=lower_bound, color='r', linestyle='dashed', linewidth=2)\r\n",
        "ax.axvline(x=upper_bound, color='r', linestyle='dashed', linewidth=2)\r\n",
        "\r\n",
        "# lower_bound, upper_bound 출력\r\n",
        "print(lower_bound)\r\n",
        "print(upper_bound)"
      ],
      "execution_count": 32,
      "outputs": [
        {
          "output_type": "stream",
          "text": [
            "-1.3966616903783426\n",
            "1.666982156397844\n"
          ],
          "name": "stdout"
        },
        {
          "output_type": "display_data",
          "data": {
            "image/png": "[encoded data removed]",
            "text/plain": [
              "<Figure size 432x288 with 1 Axes>"
            ]
          },
          "metadata": {
            "tags": [],
            "needs_background": "light"
          }
        }
      ]
    },
    {
      "cell_type": "code",
      "metadata": {
        "colab": {
          "base_uri": "https://localhost:8080/",
          "height": 346
        },
        "id": "MoqJEg0aYSoZ",
        "outputId": "0a69dfe8-01fa-42c3-9512-09d5d12db6dd"
      },
      "source": [
        "def get_price_level(price, lower, upper):\r\n",
        "    if price <= lower:\r\n",
        "        return '0'\r\n",
        "    elif price >= upper:\r\n",
        "        return '2'\r\n",
        "    else:\r\n",
        "        return '1'\r\n",
        "    \r\n",
        "df['price_lower'] = df.groupby('phone_model_detail')['price'].transform(lambda x: x.quantile(0.05))\r\n",
        "df['price_upper'] = df.groupby('phone_model_detail')['price'].transform(lambda x: x.quantile(0.95))\r\n",
        "df['price_level'] = df.apply(lambda row: get_price_level(row['price'], row['price_lower'], row['price_upper']), axis=1)\r\n",
        "\r\n",
        "df[['price', 'price_lower', 'price_upper', 'price_level', 'text']].head()"
      ],
      "execution_count": 33,
      "outputs": [
        {
          "output_type": "execute_result",
          "data": {
            "text/html": [
              "<div>\n",
              "<style scoped>\n",
              "    .dataframe tbody tr th:only-of-type {\n",
              "        vertical-align: middle;\n",
              "    }\n",
              "\n",
              "    .dataframe tbody tr th {\n",
              "        vertical-align: top;\n",
              "    }\n",
              "\n",
              "    .dataframe thead th {\n",
              "        text-align: right;\n",
              "    }\n",
              "</style>\n",
              "<table border=\"1\" class=\"dataframe\">\n",
              "  <thead>\n",
              "    <tr style=\"text-align: right;\">\n",
              "      <th></th>\n",
              "      <th>price</th>\n",
              "      <th>price_lower</th>\n",
              "      <th>price_upper</th>\n",
              "      <th>price_level</th>\n",
              "      <th>text</th>\n",
              "    </tr>\n",
              "  </thead>\n",
              "  <tbody>\n",
              "    <tr>\n",
              "      <th>0</th>\n",
              "      <td>550000.0</td>\n",
              "      <td>180000.0</td>\n",
              "      <td>680000.0</td>\n",
              "      <td>1</td>\n",
              "      <td>아이폰6플러스 블랙+애플라이트 64기가 팝니다  아이폰6플러스 블랙+애플라이트 64...</td>\n",
              "    </tr>\n",
              "    <tr>\n",
              "      <th>1</th>\n",
              "      <td>380000.0</td>\n",
              "      <td>180000.0</td>\n",
              "      <td>414000.0</td>\n",
              "      <td>1</td>\n",
              "      <td>갤럭시s6엣지 32기가 팝니다 직거래  갤럭시s6엣지 32기가 품명 갤럭시s6엣지제...</td>\n",
              "    </tr>\n",
              "    <tr>\n",
              "      <th>2</th>\n",
              "      <td>300000.0</td>\n",
              "      <td>150000.0</td>\n",
              "      <td>349000.0</td>\n",
              "      <td>1</td>\n",
              "      <td>갤럭시s6 풀박스로 팝니다~~~ 새상품급  실기스조차 없어요  직접거래 구매한지 1...</td>\n",
              "    </tr>\n",
              "    <tr>\n",
              "      <th>3</th>\n",
              "      <td>290000.0</td>\n",
              "      <td>100000.0</td>\n",
              "      <td>500000.0</td>\n",
              "      <td>1</td>\n",
              "      <td>sk  g5 티탄 폰 단품판매합니다  직접거래 sk g5 티탄 폰 단품판매합니다 올...</td>\n",
              "    </tr>\n",
              "    <tr>\n",
              "      <th>4</th>\n",
              "      <td>280000.0</td>\n",
              "      <td>18000.0</td>\n",
              "      <td>400000.0</td>\n",
              "      <td>1</td>\n",
              "      <td>sony 엑스페리아 c5 ultra e5506 16gb  미사용 새제품 팝니다 1...</td>\n",
              "    </tr>\n",
              "  </tbody>\n",
              "</table>\n",
              "</div>"
            ],
            "text/plain": [
              "      price  ...                                               text\n",
              "0  550000.0  ...  아이폰6플러스 블랙+애플라이트 64기가 팝니다  아이폰6플러스 블랙+애플라이트 64...\n",
              "1  380000.0  ...  갤럭시s6엣지 32기가 팝니다 직거래  갤럭시s6엣지 32기가 품명 갤럭시s6엣지제...\n",
              "2  300000.0  ...  갤럭시s6 풀박스로 팝니다~~~ 새상품급  실기스조차 없어요  직접거래 구매한지 1...\n",
              "3  290000.0  ...  sk  g5 티탄 폰 단품판매합니다  직접거래 sk g5 티탄 폰 단품판매합니다 올...\n",
              "4  280000.0  ...   sony 엑스페리아 c5 ultra e5506 16gb  미사용 새제품 팝니다 1...\n",
              "\n",
              "[5 rows x 5 columns]"
            ]
          },
          "metadata": {
            "tags": []
          },
          "execution_count": 33
        }
      ]
    },
    {
      "cell_type": "markdown",
      "metadata": {
        "id": "j2No-8FCYWJs"
      },
      "source": [
        "#### 텍스트 전처리"
      ]
    },
    {
      "cell_type": "code",
      "metadata": {
        "colab": {
          "base_uri": "https://localhost:8080/"
        },
        "id": "JP7UbDT0YUYG",
        "outputId": "768085da-3301-4df0-d45d-6f3b2767a6a2"
      },
      "source": [
        "import pickle\r\n",
        "import re\r\n",
        "\r\n",
        "# 중고나라 불용어 사전 불러오기\r\n",
        "with open('/content/gdrive/MyDrive/Colab Notebooks/data/used_mobile_phone_stopwords.pkl', 'rb') as f:\r\n",
        "    stopwords = pickle.load(f)\r\n",
        "    \r\n",
        "# 불용어 사전에 등록된 단어 출력\r\n",
        "stopwords"
      ],
      "execution_count": 35,
      "outputs": [
        {
          "output_type": "execute_result",
          "data": {
            "text/plain": [
              "['거래',\n",
              " '입니',\n",
              " '판매',\n",
              " '아이폰',\n",
              " '갤럭시',\n",
              " '골드',\n",
              " '팝',\n",
              " '만원',\n",
              " '폰',\n",
              " '시',\n",
              " '주세',\n",
              " '노트',\n",
              " '문자',\n",
              " '화이트',\n",
              " '연락',\n",
              " '블랙',\n",
              " '구매',\n",
              " '및',\n",
              " '기재',\n",
              " '년',\n",
              " '품',\n",
              " '월',\n",
              " '용',\n",
              " '로즈',\n",
              " '상세',\n",
              " '항목',\n",
              " '완료',\n",
              " '지역',\n",
              " '개',\n",
              " '실버',\n",
              " '신청하기',\n",
              " '색상',\n",
              " '타',\n",
              " '기기',\n",
              " '서울',\n",
              " '후',\n",
              " '문의',\n",
              " '원',\n",
              " '설명',\n",
              " '판',\n",
              " '전화',\n",
              " '엣지',\n",
              " '모두',\n",
              " '경우',\n",
              " '보시',\n",
              " '위',\n",
              " '정확히',\n",
              " '정도',\n",
              " '될',\n",
              " '등',\n",
              " '휴대폰',\n",
              " '되',\n",
              " '일',\n",
              " '플러스',\n",
              " 'g',\n",
              " 'lg',\n",
              " 'skt',\n",
              " 'gb',\n",
              " 'kt',\n",
              " 'sk',\n",
              " 'se',\n",
              " 'lgu',\n",
              " 'u',\n",
              " 'lte',\n",
              " 'fl',\n",
              " 'ltea',\n",
              " 'nl',\n",
              " 'k',\n",
              " 'z',\n",
              " 'v',\n",
              " 'lgt',\n",
              " 'gs',\n",
              " 'gl',\n",
              " 'ss',\n",
              " 'cat',\n",
              " 'nk',\n",
              " 'b',\n",
              " 'com',\n",
              " 'gpro',\n",
              " 'ea',\n",
              " 'ns',\n",
              " 'ios',\n",
              " 'gt',\n",
              " 'or',\n",
              " 'usb',\n",
              " 'amp',\n",
              " 'umi',\n",
              " 'lgfl',\n",
              " 'es',\n",
              " 'howufeel',\n",
              " 'gk',\n",
              " 'ek',\n",
              " 'xperia',\n",
              " 'y',\n",
              " 'wpi',\n",
              " 'mtk',\n",
              " 'd',\n",
              " 'www',\n",
              " 'sss',\n",
              " 'fs',\n",
              " 'el',\n",
              " 'lglp',\n",
              " 'white',\n",
              " 'http',\n",
              " 'o',\n",
              " 'l',\n",
              " 'zv',\n",
              " 'e',\n",
              " 'al',\n",
              " 'gn',\n",
              " 'ps',\n",
              " 'naver',\n",
              " 'rome',\n",
              " 'gx',\n",
              " 'lglb',\n",
              " 'ssanmai',\n",
              " 'f',\n",
              " '계',\n",
              " '명',\n",
              " '들',\n",
              " '적',\n",
              " '자',\n",
              " '상',\n",
              " '화',\n",
              " '대',\n",
              " '중',\n",
              " '장',\n",
              " '간',\n",
              " '네',\n",
              " '분',\n",
              " '권',\n",
              " '이',\n",
              " '백',\n",
              " '째',\n",
              " '형',\n",
              " '분들',\n",
              " '번째',\n",
              " '씩',\n",
              " '쯤',\n",
              " '식',\n",
              " '조',\n",
              " '성',\n",
              " '꺼',\n",
              " '님',\n",
              " '당',\n",
              " '인',\n",
              " '틱',\n",
              " '짱',\n",
              " '샵',\n",
              " '군',\n",
              " '천',\n",
              " '아',\n",
              " '플',\n",
              " '흡',\n",
              " '휴',\n",
              " '엑',\n",
              " ',',\n",
              " ',,',\n",
              " '+,',\n",
              " '++++++++++++++++++++++++++++++++++++++',\n",
              " ',,,,,,',\n",
              " '그리고',\n",
              " '하지만',\n",
              " '그러므로',\n",
              " '것',\n",
              " '겠',\n",
              " '다',\n",
              " '주',\n",
              " '거',\n",
              " '니',\n",
              " '전',\n",
              " '는',\n",
              " '을',\n",
              " '놨',\n",
              " '하',\n",
              " '놓',\n",
              " '셔',\n",
              " '우',\n",
              " '던고',\n",
              " '내',\n",
              " '가',\n",
              " '겟',\n",
              " '었',\n",
              " '데',\n",
              " '테',\n",
              " '았',\n",
              " '혀',\n",
              " '싶',\n",
              " '실',\n",
              " '야',\n",
              " '앗',\n",
              " '져',\n",
              " '오',\n",
              " '울나',\n",
              " '지',\n",
              " '면',\n",
              " '으',\n",
              " '어',\n",
              " '졌',\n",
              " '진',\n",
              " '히',\n",
              " '께',\n",
              " '세',\n",
              " '치',\n",
              " '말',\n",
              " '답',\n",
              " '놓고',\n",
              " '줄',\n",
              " '십',\n",
              " '잖야만',\n",
              " '퍼',\n",
              " '鄭',\n",
              " '植',\n",
              " '有',\n",
              " '無',\n",
              " 'ˇ',\n",
              " '正尹',\n",
              " 'ㅠㅠ',\n",
              " 'ㅎ',\n",
              " 'ㅎㅎ',\n",
              " 'ㅎㅎㅎ',\n",
              " 'ㅇ',\n",
              " 'ㅠ',\n",
              " 'ㅡ',\n",
              " 'ㅜㅜ',\n",
              " 'ㅍㅍ',\n",
              " 'ㅅ',\n",
              " 'ㅣ',\n",
              " 'ㅏㄷ',\n",
              " 'ㅋ',\n",
              " 'ㅂ',\n",
              " 'ㅎㅇ',\n",
              " '',\n",
              " 'ㅠㅠㅡㅠ',\n",
              " 'ㅎㅎㅎㅎ',\n",
              " 'ㅌ',\n",
              " 'ㄲ',\n",
              " 'ㅋㅋ',\n",
              " 'ㅠㅜ',\n",
              " 'ㅇㅏ',\n",
              " 'ㅡㅡㅡㅡㅡㅡㅡㅡㅡㅡㅡㅡㅡㅡㅡㅡㅡㅡㅡㅡㅡㅡㅡㅡㅡㅡㅡㅡㅡㅡㅡㅡㅡㅡㅡ',\n",
              " 'ㄱ',\n",
              " 'ㅠㅠㅠㅠ',\n",
              " 'ㄱㄱ',\n",
              " 'ㅈ',\n",
              " 'ㅜ',\n",
              " 'ㅜㅜㅇ',\n",
              " 'ㅏ',\n",
              " 'ㅍㅇㅂ',\n",
              " 'ㄴ',\n",
              " 'ㅁ',\n",
              " 'ㅇㅇㅇ',\n",
              " 'ㅕ',\n",
              " 'ㅇㅇ',\n",
              " 'ㅠㅠㅠ',\n",
              " 'ㄷ',\n",
              " '니다',\n",
              " '습니다',\n",
              " '요',\n",
              " '서',\n",
              " '고',\n",
              " '음',\n",
              " '구요',\n",
              " '나',\n",
              " '기',\n",
              " '디',\n",
              " '도',\n",
              " '며',\n",
              " '만',\n",
              " '는데',\n",
              " '지만',\n",
              " '게',\n",
              " '던',\n",
              " '아요',\n",
              " '으며',\n",
              " '은',\n",
              " '구',\n",
              " '네요',\n",
              " '세요',\n",
              " '어요',\n",
              " '라',\n",
              " '께요',\n",
              " '으나',\n",
              " '에',\n",
              " '니까',\n",
              " '다시피',\n",
              " '도록',\n",
              " '으면',\n",
              " '건',\n",
              " '거나',\n",
              " '으니',\n",
              " '고요',\n",
              " '여',\n",
              " '듯',\n",
              " '게요',\n",
              " '다가',\n",
              " '리',\n",
              " '에요',\n",
              " '까',\n",
              " '므로',\n",
              " '면서',\n",
              " '과',\n",
              " '래',\n",
              " '러',\n",
              " '다고',\n",
              " '로',\n",
              " '록',\n",
              " '기에',\n",
              " '려고',\n",
              " '듯이',\n",
              " '는바',\n",
              " '엔',\n",
              " '는대로',\n",
              " '이며',\n",
              " '는데도',\n",
              " '는데는',\n",
              " '긴',\n",
              " '하고',\n",
              " '만큼',\n",
              " '더라구요',\n",
              " '다는',\n",
              " '지는',\n",
              " '사',\n",
              " '래도',\n",
              " '아서',\n",
              " '길',\n",
              " '다면',\n",
              " '죠',\n",
              " '단',\n",
              " '신',\n",
              " '다만',\n",
              " '자마자',\n",
              " '어서',\n",
              " '습니다만',\n",
              " '매',\n",
              " '곤',\n",
              " '는걸',\n",
              " '거니',\n",
              " '건데',\n",
              " '으로',\n",
              " '에서',\n",
              " '의',\n",
              " '까지',\n",
              " '를',\n",
              " '한',\n",
              " '와',\n",
              " '해서',\n",
              " '이고',\n",
              " '이라',\n",
              " '에는',\n",
              " '해',\n",
              " '에서만',\n",
              " '랑',\n",
              " '보다',\n",
              " '이니',\n",
              " '든',\n",
              " '인데',\n",
              " '부터',\n",
              " '처럼',\n",
              " '이지만',\n",
              " '이라고',\n",
              " '에서는',\n",
              " '까지는',\n",
              " '이랑',\n",
              " '만에',\n",
              " '라고',\n",
              " '이라서',\n",
              " '든지',\n",
              " '말고',\n",
              " '난',\n",
              " '으로는',\n",
              " '조차',\n",
              " '대로',\n",
              " '라도',\n",
              " '했기에',\n",
              " '으로만',\n",
              " '하고는',\n",
              " '이여',\n",
              " '이에요',\n",
              " '까지만',\n",
              " '이네',\n",
              " '과는',\n",
              " '라서',\n",
              " '보다는',\n",
              " '한테',\n",
              " '에도',\n",
              " '마저',\n",
              " '까지로',\n",
              " '이다',\n",
              " '에서도',\n",
              " '에만',\n",
              " '이라는',\n",
              " '했지만',\n",
              " '에다가',\n",
              " '라는',\n",
              " '말고는',\n",
              " '에선',\n",
              " '만큼의',\n",
              " '와는',\n",
              " '인지',\n",
              " '스럽게',\n",
              " '로다',\n",
              " '보단',\n",
              " '몇',\n",
              " '돌',\n",
              " '아랫',\n",
              " '올',\n",
              " '극',\n",
              " '그',\n",
              " '두',\n",
              " '저',\n",
              " '다섯',\n",
              " '또는',\n",
              " '많이',\n",
              " '하우',\n",
              " '이렇게',\n",
              " '엄청',\n",
              " '딱',\n",
              " '그래서',\n",
              " '함께',\n",
              " '어느',\n",
              " '혹은',\n",
              " '가급적',\n",
              " '훨씬',\n",
              " '그래도',\n",
              " '관계없이',\n",
              " '저렇게',\n",
              " '깍',\n",
              " '아무래도',\n",
              " '특히',\n",
              " '조금씩',\n",
              " '근데',\n",
              " '그렇게',\n",
              " '천천히',\n",
              " '앙',\n",
              " '꽉꽉',\n",
              " '언능',\n",
              " '걍',\n",
              " '이리저리',\n",
              " '마구마구',\n",
              " '수시로',\n",
              " '말끔',\n",
              " '팍팍',\n",
              " '꼼꼼',\n",
              " '이맘때',\n",
              " '빠릿빠릿',\n",
              " '찰칵',\n",
              " '똑같이',\n",
              " '아무리',\n",
              " '첨',\n",
              " '이미',\n",
              " '풍',\n",
              " '수없이',\n",
              " '그만',\n",
              " '하여간',\n",
              " '가만히',\n",
              " '바로바로',\n",
              " '죄다',\n",
              " '탱',\n",
              " '건들',\n",
              " '건정',\n",
              " '매해',\n",
              " '다행히',\n",
              " '안',\n",
              " '못',\n",
              " '질',\n",
              " '엇',\n",
              " '싸']"
            ]
          },
          "metadata": {
            "tags": []
          },
          "execution_count": 35
        }
      ]
    },
    {
      "cell_type": "markdown",
      "metadata": {
        "id": "dyxRqTbUYgLg"
      },
      "source": [
        "#### 형태소 단위로 추출"
      ]
    },
    {
      "cell_type": "markdown",
      "metadata": {
        "id": "TX6bfNcQYhgI"
      },
      "source": [
        "- 텍스트에서 특수문자를 제거한다. 단, '+'와 ',' 문자는 제거 x  \r\n",
        "- 텍스트에서 숫자를 제거한다."
      ]
    },
    {
      "cell_type": "code",
      "metadata": {
        "colab": {
          "base_uri": "https://localhost:8080/"
        },
        "id": "ChrVMKVgYll-",
        "outputId": "ac2fd284-d6c8-486d-c260-2c0fe767a897"
      },
      "source": [
        "! pip install konlpy"
      ],
      "execution_count": 38,
      "outputs": [
        {
          "output_type": "stream",
          "text": [
            "Collecting konlpy\n",
            "\u001b[?25l  Downloading https://files.pythonhosted.org/packages/85/0e/f385566fec837c0b83f216b2da65db9997b35dd675e107752005b7d392b1/konlpy-0.5.2-py2.py3-none-any.whl (19.4MB)\n",
            "\u001b[K     |████████████████████████████████| 19.4MB 1.3MB/s \n",
            "\u001b[?25hRequirement already satisfied: numpy>=1.6 in /usr/local/lib/python3.6/dist-packages (from konlpy) (1.19.5)\n",
            "Collecting beautifulsoup4==4.6.0\n",
            "\u001b[?25l  Downloading https://files.pythonhosted.org/packages/9e/d4/10f46e5cfac773e22707237bfcd51bbffeaf0a576b0a847ec7ab15bd7ace/beautifulsoup4-4.6.0-py3-none-any.whl (86kB)\n",
            "\u001b[K     |████████████████████████████████| 92kB 6.8MB/s \n",
            "\u001b[?25hCollecting colorama\n",
            "  Downloading https://files.pythonhosted.org/packages/44/98/5b86278fbbf250d239ae0ecb724f8572af1c91f4a11edf4d36a206189440/colorama-0.4.4-py2.py3-none-any.whl\n",
            "Collecting JPype1>=0.7.0\n",
            "\u001b[?25l  Downloading https://files.pythonhosted.org/packages/de/af/93f92b38ec1ff3091cd38982ed19cea2800fefb609b5801c41fc43c0781e/JPype1-1.2.1-cp36-cp36m-manylinux2010_x86_64.whl (457kB)\n",
            "\u001b[K     |████████████████████████████████| 460kB 27.0MB/s \n",
            "\u001b[?25hCollecting tweepy>=3.7.0\n",
            "  Downloading https://files.pythonhosted.org/packages/67/c3/6bed87f3b1e5ed2f34bd58bf7978e308c86e255193916be76e5a5ce5dfca/tweepy-3.10.0-py2.py3-none-any.whl\n",
            "Requirement already satisfied: lxml>=4.1.0 in /usr/local/lib/python3.6/dist-packages (from konlpy) (4.2.6)\n",
            "Requirement already satisfied: typing-extensions; python_version < \"3.8\" in /usr/local/lib/python3.6/dist-packages (from JPype1>=0.7.0->konlpy) (3.7.4.3)\n",
            "Requirement already satisfied: six>=1.10.0 in /usr/local/lib/python3.6/dist-packages (from tweepy>=3.7.0->konlpy) (1.15.0)\n",
            "Requirement already satisfied: requests[socks]>=2.11.1 in /usr/local/lib/python3.6/dist-packages (from tweepy>=3.7.0->konlpy) (2.23.0)\n",
            "Requirement already satisfied: requests-oauthlib>=0.7.0 in /usr/local/lib/python3.6/dist-packages (from tweepy>=3.7.0->konlpy) (1.3.0)\n",
            "Requirement already satisfied: chardet<4,>=3.0.2 in /usr/local/lib/python3.6/dist-packages (from requests[socks]>=2.11.1->tweepy>=3.7.0->konlpy) (3.0.4)\n",
            "Requirement already satisfied: idna<3,>=2.5 in /usr/local/lib/python3.6/dist-packages (from requests[socks]>=2.11.1->tweepy>=3.7.0->konlpy) (2.10)\n",
            "Requirement already satisfied: urllib3!=1.25.0,!=1.25.1,<1.26,>=1.21.1 in /usr/local/lib/python3.6/dist-packages (from requests[socks]>=2.11.1->tweepy>=3.7.0->konlpy) (1.24.3)\n",
            "Requirement already satisfied: certifi>=2017.4.17 in /usr/local/lib/python3.6/dist-packages (from requests[socks]>=2.11.1->tweepy>=3.7.0->konlpy) (2020.12.5)\n",
            "Requirement already satisfied: PySocks!=1.5.7,>=1.5.6; extra == \"socks\" in /usr/local/lib/python3.6/dist-packages (from requests[socks]>=2.11.1->tweepy>=3.7.0->konlpy) (1.7.1)\n",
            "Requirement already satisfied: oauthlib>=3.0.0 in /usr/local/lib/python3.6/dist-packages (from requests-oauthlib>=0.7.0->tweepy>=3.7.0->konlpy) (3.1.0)\n",
            "Installing collected packages: beautifulsoup4, colorama, JPype1, tweepy, konlpy\n",
            "  Found existing installation: beautifulsoup4 4.6.3\n",
            "    Uninstalling beautifulsoup4-4.6.3:\n",
            "      Successfully uninstalled beautifulsoup4-4.6.3\n",
            "  Found existing installation: tweepy 3.6.0\n",
            "    Uninstalling tweepy-3.6.0:\n",
            "      Successfully uninstalled tweepy-3.6.0\n",
            "Successfully installed JPype1-1.2.1 beautifulsoup4-4.6.0 colorama-0.4.4 konlpy-0.5.2 tweepy-3.10.0\n"
          ],
          "name": "stdout"
        }
      ]
    },
    {
      "cell_type": "code",
      "metadata": {
        "id": "8tk1m_YIYXkD"
      },
      "source": [
        "from konlpy.tag import Okt\r\n",
        "\r\n",
        "# 특수문자, 숫자 제거하는 함수\r\n",
        "def text_cleaning(text):\r\n",
        "    text = ''.join(c for c in text if c.isalnum() or c in '+, ')\r\n",
        "    text = ''.join([i for i in text if not i.isdigit()])\r\n",
        "    return text\r\n",
        "\r\n",
        "# 불용어에 등장하지 않는 형태소만을 추출하여 반환하는 함수\r\n",
        "def get_pos(x):\r\n",
        "    tagger = Okt()\r\n",
        "    poses = tagger.pos(x)\r\n",
        "    return [pos[0] for pos in poses if pos[0] not in stopwords]"
      ],
      "execution_count": 40,
      "outputs": []
    },
    {
      "cell_type": "code",
      "metadata": {
        "colab": {
          "base_uri": "https://localhost:8080/"
        },
        "id": "jAuFgxq5Yirt",
        "outputId": "d2790963-50e1-422a-889f-20b7e1fc2d97"
      },
      "source": [
        "# 위 함수들을 적용한 형태소 추출 test\r\n",
        "df['text'] = df['text'].apply(lambda x : text_cleaning(x))\r\n",
        "result = get_pos(df['text'][0])\r\n",
        "print(result)"
      ],
      "execution_count": 41,
      "outputs": [
        {
          "output_type": "stream",
          "text": [
            "['+', '애플', '라이트', '팝니다', '+', '애플', '라이트', '팝니다', '+', '애플', '라이트', '팝니다', '리퍼', '기간', '만료', '되어서', '징', '하게', '되었습니다', '상태', '초', 'a', '급', '스', '없습니다', '+', '애플', '라이트', '팝니다', '+', '애플', '라이트', '팝니다', '리퍼', '기간', '만료', '되어서', '징', '하게', '되었습니다', '상태', '초', 'a', '급', '스', '없습니다', '징', '애플', '라이트', '홈', '버튼', '링', '카메라', '링', '볼륨', '버튼', '슬립', '버튼', '검금', '심플', '튀지', '않게', '이쁘게', '했구요', '유심', '꽂고', '바로', '사용', '하시면', '됩니다', '사람', '이냐', '자주', '물어보고', '실제', '더욱', '이쁩니다', '밤', '영롱하게', '맥북', '뒷', '사과', '로고', '비춰지고', '요전', '넘어가기', '위해', '합니다', '가능합니다', '박스', '어머니', '버리시고', '이어폰', '충전기', '정품', '드립니다', '직거래', '우선', '순', '위로', '정', '싶으시면', '선', '입금', '택배', '발송', '해드리겠습니다', '믿으시면', '직거래', '하시길', '추천', '해요', '안전', '합니다', '서울시', '강남구', '역삼동', '차병원', '사거리', '근처', '가격']\n"
          ],
          "name": "stdout"
        }
      ]
    },
    {
      "cell_type": "markdown",
      "metadata": {
        "id": "kAwYLRknYwNF"
      },
      "source": [
        "#### 빈출 형태소 2500개 선정"
      ]
    },
    {
      "cell_type": "markdown",
      "metadata": {
        "id": "Z9NahU-zYxWk"
      },
      "source": [
        "- 단어 개수 제한하는 이유?  \r\n",
        ": 텍스트 데이터의 feature를 제한하기 위함  \r\n",
        ": 만약 이를 제한하지 않으면 텍스트 데이터의 feature는 몇 만개, 혹은 몇 백만 개로 늘어날 수 있기 때문"
      ]
    },
    {
      "cell_type": "code",
      "metadata": {
        "colab": {
          "base_uri": "https://localhost:8080/"
        },
        "id": "gM9-mRqJYttM",
        "outputId": "32e06819-9fcf-456b-f640-e8612d0ef781"
      },
      "source": [
        "from collections import Counter\r\n",
        "\r\n",
        "# get_pos 함수를 모든 텍스트 데이터에 적용하여 형태소 말뭉치를 추출\r\n",
        "corpus = sum(df['text'].apply(lambda x: get_pos(x)).tolist(), []) # 2차원 리스트 flatten 하게\r\n",
        "\r\n",
        "# 추출된 형태소 말뭉치에서 가장 많이 등장한 형태소 2500개 추출\r\n",
        "counter = Counter(corpus)\r\n",
        "common_words = [key for key, _ in counter.most_common(2500)]\r\n",
        "common_words"
      ],
      "execution_count": 42,
      "outputs": [
        {
          "output_type": "execute_result",
          "data": {
            "text/plain": [
              "['입니다',\n",
              " '직거래',\n",
              " 's',\n",
              " '합니다',\n",
              " '택배',\n",
              " '사용',\n",
              " '급',\n",
              " '상태',\n",
              " '팝니다',\n",
              " '가능합니다',\n",
              " '정상',\n",
              " '사진',\n",
              " '가격',\n",
              " '+',\n",
              " '케이스',\n",
              " 'a',\n",
              " '주세요',\n",
              " '해지',\n",
              " '삭제',\n",
              " '제품',\n",
              " '있습니다',\n",
              " '박스',\n",
              " '가능',\n",
              " '직접',\n",
              " '액정',\n",
              " '배터리',\n",
              " '성품',\n",
              " '필름',\n",
              " '리퍼',\n",
              " '충전기',\n",
              " '없습니다',\n",
              " '풀',\n",
              " '개통',\n",
              " '유심',\n",
              " '즈',\n",
              " '안전',\n",
              " '스',\n",
              " '하기',\n",
              " '신청',\n",
              " '드립니다',\n",
              " '통신사',\n",
              " '구입',\n",
              " '약정',\n",
              " '이어폰',\n",
              " '공기',\n",
              " '새',\n",
              " '기변',\n",
              " '포함',\n",
              " '모델',\n",
              " '선택',\n",
              " '됩니다',\n",
              " '확인',\n",
              " '기간',\n",
              " '기스',\n",
              " '그레이',\n",
              " '찍힘',\n",
              " '방법',\n",
              " '바로',\n",
              " '할인',\n",
              " '제',\n",
              " '시기',\n",
              " '스페이스',\n",
              " '희망',\n",
              " '번호',\n",
              " '중고나라',\n",
              " '본체',\n",
              " '같이',\n",
              " '생활',\n",
              " '잘',\n",
              " '무',\n",
              " '퀵',\n",
              " '글',\n",
              " '된',\n",
              " '않을',\n",
              " '공식',\n",
              " '앱',\n",
              " '확정',\n",
              " '기능',\n",
              " '다운',\n",
              " '양',\n",
              " '호환',\n",
              " '케이블',\n",
              " '받기',\n",
              " '미',\n",
              " '이메일',\n",
              " '작성',\n",
              " '부분',\n",
              " '금지',\n",
              " '될수',\n",
              " '식아이디',\n",
              " '허위',\n",
              " '임의',\n",
              " '통보',\n",
              " '채우지',\n",
              " '핸드폰',\n",
              " '편한',\n",
              " '전혀',\n",
              " '충전',\n",
              " '내용',\n",
              " '연락처',\n",
              " '단말기',\n",
              " '부산',\n",
              " '대구',\n",
              " '미사',\n",
              " '정품',\n",
              " '중고',\n",
              " '문제',\n",
              " '없이',\n",
              " '이상',\n",
              " '보호',\n",
              " '방문',\n",
              " '없는',\n",
              " '외관',\n",
              " '외',\n",
              " '인천',\n",
              " '깨끗합니다',\n",
              " 'x',\n",
              " '초기',\n",
              " '하나',\n",
              " '참고',\n",
              " '이구',\n",
              " '요금',\n",
              " '개월',\n",
              " '이나',\n",
              " '사이트',\n",
              " '팔아요',\n",
              " '하시면',\n",
              " '했습니다',\n",
              " '동',\n",
              " '카페',\n",
              " '보내',\n",
              " '카톡',\n",
              " '블로그',\n",
              " '링크',\n",
              " '싸이',\n",
              " '강퇴',\n",
              " '삼성',\n",
              " '거치',\n",
              " '있는',\n",
              " '호선',\n",
              " '모든',\n",
              " '입금',\n",
              " '처리',\n",
              " '없음',\n",
              " '뒷',\n",
              " '핑크',\n",
              " '카메라',\n",
              " '거주지',\n",
              " '공',\n",
              " '하여',\n",
              " '역도',\n",
              " '재판매',\n",
              " '유도',\n",
              " '선',\n",
              " '교체',\n",
              " '강화유리',\n",
              " '경매',\n",
              " '만만',\n",
              " '부탁드립니다',\n",
              " '구성',\n",
              " '필수',\n",
              " '차대',\n",
              " '재시',\n",
              " '없고',\n",
              " '전체',\n",
              " '파손',\n",
              " '다른',\n",
              " '가능하며',\n",
              " '작동',\n",
              " '가능한',\n",
              " '교환',\n",
              " '드리겠습니다',\n",
              " '좋습니다',\n",
              " '기계',\n",
              " '생각',\n",
              " '그대로',\n",
              " '추가',\n",
              " '약간',\n",
              " '살짝',\n",
              " '바랍니다',\n",
              " '테두리',\n",
              " '풀박',\n",
              " '미개',\n",
              " '거의',\n",
              " '부담',\n",
              " '쪽',\n",
              " '조금',\n",
              " '비',\n",
              " '주시',\n",
              " 'as',\n",
              " '하지',\n",
              " '싸게',\n",
              " '때',\n",
              " '하겠습니다',\n",
              " '봉',\n",
              " '완전',\n",
              " '상품',\n",
              " '댓글',\n",
              " '착불',\n",
              " '부착',\n",
              " '때문',\n",
              " '금액',\n",
              " '아주',\n",
              " '폴더',\n",
              " '원하시면',\n",
              " '와인',\n",
              " '할',\n",
              " '하며',\n",
              " '수',\n",
              " '하단',\n",
              " '현재',\n",
              " '거주',\n",
              " '한번',\n",
              " '버튼',\n",
              " '더',\n",
              " '가능하고',\n",
              " '정말',\n",
              " '있고',\n",
              " '엘지',\n",
              " '커버',\n",
              " '블루',\n",
              " '번',\n",
              " '원합니다',\n",
              " '기본',\n",
              " '해주세요',\n",
              " '터치',\n",
              " '그냥',\n",
              " '하는',\n",
              " '용감',\n",
              " '시간',\n",
              " '전부',\n",
              " '대전',\n",
              " '되어',\n",
              " '통화',\n",
              " '센터',\n",
              " '있구요',\n",
              " '쿨',\n",
              " '깨끗한',\n",
              " '앞',\n",
              " '새거',\n",
              " '미국',\n",
              " '같습니다',\n",
              " '광주',\n",
              " '근처',\n",
              " '없구요',\n",
              " '하실',\n",
              " '착',\n",
              " '방식',\n",
              " '환불',\n",
              " '애플',\n",
              " '아래',\n",
              " '서비스',\n",
              " '젤리',\n",
              " '유리',\n",
              " '가능하구요',\n",
              " '선호',\n",
              " '않습니다',\n",
              " '수원',\n",
              " '모서리',\n",
              " '곳',\n",
              " '달',\n",
              " '하세요',\n",
              " '스마트폰',\n",
              " '화면',\n",
              " '경기도',\n",
              " '신품',\n",
              " '강화',\n",
              " '제트',\n",
              " '드려요',\n",
              " '특',\n",
              " '부품',\n",
              " '발송',\n",
              " '년월',\n",
              " '상단',\n",
              " '유플러스',\n",
              " '새것',\n",
              " '이후',\n",
              " '풀셋',\n",
              " '좋은',\n",
              " '사양',\n",
              " '홍',\n",
              " '역',\n",
              " '개봉',\n",
              " '테스트',\n",
              " '수리',\n",
              " '있어요',\n",
              " '아무',\n",
              " '투명',\n",
              " '잔기스',\n",
              " '흠집',\n",
              " '미노트',\n",
              " '분실',\n",
              " '천안',\n",
              " '받은',\n",
              " '나머지',\n",
              " '점',\n",
              " '하자',\n",
              " '하시고',\n",
              " '저렴하게',\n",
              " '않은',\n",
              " '신분',\n",
              " '유',\n",
              " '용량',\n",
              " '하시는',\n",
              " '전면',\n",
              " '언락폰',\n",
              " '양호',\n",
              " '금',\n",
              " '하였습니다',\n",
              " '보시다시피',\n",
              " '별도',\n",
              " '하구요',\n",
              " '방탄',\n",
              " '스그',\n",
              " '여분',\n",
              " '본',\n",
              " '하셔도',\n",
              " '무상',\n",
              " '따로',\n",
              " '세이프',\n",
              " '좀',\n",
              " '와이파이',\n",
              " '무선',\n",
              " '제외',\n",
              " '종',\n",
              " '되었습니다',\n",
              " '천원',\n",
              " '프로',\n",
              " '눌',\n",
              " '매트',\n",
              " '배송',\n",
              " '약',\n",
              " '절충',\n",
              " '했구요',\n",
              " '우선',\n",
              " '대리점',\n",
              " '인터넷',\n",
              " '없으며',\n",
              " '수수료',\n",
              " '다시',\n",
              " '초',\n",
              " '끼',\n",
              " '평일',\n",
              " '삽니다',\n",
              " '고장',\n",
              " '이번',\n",
              " '부근',\n",
              " '겁니다',\n",
              " '아님',\n",
              " '매장',\n",
              " '해드립니다',\n",
              " '보조',\n",
              " '하던',\n",
              " '인식',\n",
              " '불량',\n",
              " '포장',\n",
              " '부천',\n",
              " '걸',\n",
              " '군데',\n",
              " '베가',\n",
              " '언제',\n",
              " '월일',\n",
              " '첨부',\n",
              " '전주',\n",
              " '항상',\n",
              " '갤',\n",
              " '처분',\n",
              " '불가',\n",
              " '비는',\n",
              " '매우',\n",
              " '남음',\n",
              " '없어요',\n",
              " '참조',\n",
              " '국내',\n",
              " '언',\n",
              " '가입',\n",
              " '잔',\n",
              " '지문',\n",
              " '있어서',\n",
              " '장소',\n",
              " '절대',\n",
              " '밑',\n",
              " '해외',\n",
              " '되는',\n",
              " '용인',\n",
              " '적용',\n",
              " '오시',\n",
              " '옵티머스',\n",
              " '있으며',\n",
              " '유니크로',\n",
              " '무음',\n",
              " '실사',\n",
              " '분만',\n",
              " '좋아요',\n",
              " '팔',\n",
              " '안녕하세요',\n",
              " '하면서',\n",
              " '답변',\n",
              " '작은',\n",
              " '젠더',\n",
              " '가능해요',\n",
              " '아직',\n",
              " '당연히',\n",
              " '넥서스',\n",
              " '최초',\n",
              " '불입',\n",
              " '삼',\n",
              " '베터리',\n",
              " '드릴게요',\n",
              " '개인',\n",
              " '오른쪽',\n",
              " '아이디',\n",
              " '밧데리',\n",
              " '드릴께요',\n",
              " '스크래치',\n",
              " '보관',\n",
              " '관심',\n",
              " '있지만',\n",
              " '선불',\n",
              " '변경',\n",
              " '큰',\n",
              " '되고',\n",
              " '팩',\n",
              " '공장',\n",
              " '급처',\n",
              " '꼭',\n",
              " '예약',\n",
              " '혹시',\n",
              " '감사합니다',\n",
              " '출구',\n",
              " '이용',\n",
              " '되구요',\n",
              " '안심',\n",
              " '내장',\n",
              " '펜',\n",
              " '먼저',\n",
              " '했던',\n",
              " '버전',\n",
              " '아닙니다',\n",
              " '메인보드',\n",
              " '안산',\n",
              " '한지',\n",
              " '안됩니다',\n",
              " '주말',\n",
              " '사절',\n",
              " '스마트',\n",
              " '하면',\n",
              " '용이',\n",
              " '한국',\n",
              " '문',\n",
              " '최상',\n",
              " '오늘',\n",
              " '겔럭시',\n",
              " '맥스',\n",
              " '하게',\n",
              " '너무',\n",
              " '필요하시면',\n",
              " '자국',\n",
              " '일본',\n",
              " '물',\n",
              " '홈',\n",
              " '보기',\n",
              " '지금',\n",
              " '있음',\n",
              " 'nbsp',\n",
              " '최대한',\n",
              " '홍콩',\n",
              " '저녁',\n",
              " '답장',\n",
              " '보니',\n",
              " '가지',\n",
              " '있는데',\n",
              " '궁금하신',\n",
              " '쓰던',\n",
              " '보고',\n",
              " '왼쪽',\n",
              " '깨끗하고',\n",
              " '택포',\n",
              " '쪽지',\n",
              " '있으면',\n",
              " '작년',\n",
              " '기타',\n",
              " '반품',\n",
              " '뒤',\n",
              " '많은',\n",
              " '사항',\n",
              " '만료',\n",
              " '락',\n",
              " '문의사항',\n",
              " '아이언',\n",
              " '자세한',\n",
              " '상처',\n",
              " '그랜드',\n",
              " '범퍼',\n",
              " '붙여서',\n",
              " '진행',\n",
              " '청주',\n",
              " 'schw',\n",
              " '알파',\n",
              " '남아있습니다',\n",
              " '분당',\n",
              " '위해',\n",
              " '배송비',\n",
              " '망',\n",
              " '기준',\n",
              " '카드',\n",
              " '드리구요',\n",
              " '네오',\n",
              " '사실',\n",
              " '임',\n",
              " '보이는',\n",
              " '오후',\n",
              " '사파이어',\n",
              " '새로',\n",
              " '조건',\n",
              " '침수',\n",
              " '인근',\n",
              " '해요',\n",
              " '자세히',\n",
              " '처음',\n",
              " '강남',\n",
              " '환영',\n",
              " '이어팟',\n",
              " '물건',\n",
              " '원하시는',\n",
              " '등록',\n",
              " '이미지',\n",
              " '일산',\n",
              " '이동',\n",
              " '또한',\n",
              " '징',\n",
              " '비닐',\n",
              " '찍힘이',\n",
              " '완납',\n",
              " '무료',\n",
              " '단자',\n",
              " '이외',\n",
              " '연',\n",
              " '금제',\n",
              " '구성은',\n",
              " '찍힌',\n",
              " '의사',\n",
              " '중화역',\n",
              " '있으나',\n",
              " '하니',\n",
              " '부',\n",
              " '의정부',\n",
              " '있으니',\n",
              " '일반',\n",
              " '남았습니다',\n",
              " '칩',\n",
              " '톡',\n",
              " '엑스페리아',\n",
              " '후시',\n",
              " '받지',\n",
              " '붙여',\n",
              " '빠른',\n",
              " '락폰',\n",
              " '개호환',\n",
              " '현상',\n",
              " '대개',\n",
              " '얼마',\n",
              " '제거',\n",
              " '감안',\n",
              " '했는데',\n",
              " '하였고',\n",
              " '안전거래도',\n",
              " '팜',\n",
              " '하려고',\n",
              " '올립니다',\n",
              " '예정',\n",
              " '유지',\n",
              " '목포',\n",
              " '월희',\n",
              " '알뜰폰',\n",
              " '둘다',\n",
              " '성남',\n",
              " '악세사리',\n",
              " '공공',\n",
              " '물품',\n",
              " '크게',\n",
              " '울산',\n",
              " '안양',\n",
              " '심',\n",
              " '같은',\n",
              " '집',\n",
              " '어댑터',\n",
              " '않았습니다',\n",
              " 'iphone',\n",
              " '검수',\n",
              " '정중히',\n",
              " '레드',\n",
              " '전화기',\n",
              " '빼',\n",
              " '화웨이',\n",
              " '경기',\n",
              " '내년',\n",
              " '이력',\n",
              " '업무',\n",
              " '샤오미',\n",
              " '짐',\n",
              " '용기',\n",
              " '일단',\n",
              " '받고',\n",
              " '각',\n",
              " '있으시면',\n",
              " '광역시',\n",
              " '창원',\n",
              " '결과',\n",
              " '가죽',\n",
              " '설정',\n",
              " '하셔서',\n",
              " '어디',\n",
              " '이면',\n",
              " '지프로',\n",
              " '했고',\n",
              " '결제',\n",
              " '데이터',\n",
              " '전원',\n",
              " '미세한',\n",
              " 'aa',\n",
              " '가능하니',\n",
              " '있으',\n",
              " '써서',\n",
              " '받습니다',\n",
              " '기존',\n",
              " '등등',\n",
              " '없네요',\n",
              " '되도록',\n",
              " '무기',\n",
              " '실기',\n",
              " '자부',\n",
              " '아시겠지만',\n",
              " '세트',\n",
              " '반',\n",
              " '눈',\n",
              " '우측',\n",
              " '언락',\n",
              " '올해',\n",
              " '빨리',\n",
              " '제조',\n",
              " '++',\n",
              " '주변',\n",
              " '않으며',\n",
              " '봅니다',\n",
              " '지원',\n",
              " '함',\n",
              " '상관없이',\n",
              " '입니다구',\n",
              " '이유',\n",
              " '가서',\n",
              " '위주',\n",
              " '않고',\n",
              " '출시',\n",
              " '화이트골드',\n",
              " '오닉스',\n",
              " '티',\n",
              " '내부',\n",
              " '쓰실',\n",
              " '없어서',\n",
              " 'slte',\n",
              " '현금',\n",
              " '챙겨',\n",
              " '말씀',\n",
              " '보증',\n",
              " '에누리',\n",
              " 'sktg',\n",
              " '전용',\n",
              " '신용',\n",
              " '헬로모바일',\n",
              " '통일',\n",
              " '실제',\n",
              " '드리고',\n",
              " '깨끗하게',\n",
              " '스피커',\n",
              " '총',\n",
              " '흰색',\n",
              " '우체국택배',\n",
              " '보면',\n",
              " '통신',\n",
              " '스카이',\n",
              " '쓰시',\n",
              " '밖에',\n",
              " '원래',\n",
              " '정보',\n",
              " '물론',\n",
              " '날',\n",
              " '마지막',\n",
              " '되어있습니다',\n",
              " '받았습니다',\n",
              " '애플스토어',\n",
              " '믿고',\n",
              " '흔적',\n",
              " '되면',\n",
              " '통',\n",
              " '드림',\n",
              " '실리콘',\n",
              " '선물',\n",
              " '위치',\n",
              " '조정',\n",
              " '회사',\n",
              " 'plus',\n",
              " '근무',\n",
              " '바',\n",
              " '내놓습니다',\n",
              " '상해',\n",
              " '붙이',\n",
              " '있어',\n",
              " '지장',\n",
              " '되지',\n",
              " '셋',\n",
              " '부평',\n",
              " '편입',\n",
              " '김포',\n",
              " '의무',\n",
              " '안전하게',\n",
              " '일이',\n",
              " '시크릿',\n",
              " '칠',\n",
              " '거리',\n",
              " '인치',\n",
              " '역시',\n",
              " '흥정',\n",
              " '찔러',\n",
              " '빼고',\n",
              " '순천',\n",
              " 'c',\n",
              " '비밀번호',\n",
              " '잠금',\n",
              " 'sphw',\n",
              " '부탁',\n",
              " 'cj',\n",
              " '직',\n",
              " '되며',\n",
              " '성능',\n",
              " '최상급',\n",
              " 'aaa',\n",
              " '사서',\n",
              " '해지한',\n",
              " '램',\n",
              " '잠실',\n",
              " '스크레치',\n",
              " '걱정',\n",
              " '늦어요',\n",
              " '법적',\n",
              " '찍힘은',\n",
              " '순',\n",
              " '불로',\n",
              " '없지만',\n",
              " 'lgsu',\n",
              " '다녀서',\n",
              " '넣어',\n",
              " '쓰고',\n",
              " '카카오',\n",
              " '받아서',\n",
              " '일주일',\n",
              " '지하철',\n",
              " '직구',\n",
              " '무조건',\n",
              " '평택',\n",
              " '협의',\n",
              " '루나',\n",
              " '잔기',\n",
              " '좋구요',\n",
              " '끝',\n",
              " '죄송합니다',\n",
              " '법',\n",
              " '빠르게',\n",
              " '하다가',\n",
              " '찍어',\n",
              " '안나',\n",
              " '로만',\n",
              " '브라운',\n",
              " '육',\n",
              " '티타늄',\n",
              " '안전한',\n",
              " '책임집니다',\n",
              " '되서',\n",
              " 'note',\n",
              " '색',\n",
              " '티탄',\n",
              " '여기',\n",
              " '일체',\n",
              " '메모리',\n",
              " '측면',\n",
              " '옆',\n",
              " '드릴수',\n",
              " '오셔서',\n",
              " '외부',\n",
              " 'gold',\n",
              " '빼고는',\n",
              " '우체국',\n",
              " '깨짐',\n",
              " '고객',\n",
              " '좋음',\n",
              " '특성',\n",
              " '기단',\n",
              " 'lt',\n",
              " 'dmb',\n",
              " 'lglu',\n",
              " '좋겠습니다',\n",
              " '계속',\n",
              " '위쪽',\n",
              " '알',\n",
              " '하는데',\n",
              " '깨끗이',\n",
              " '하루',\n",
              " '드릴',\n",
              " '롬',\n",
              " '애지중지',\n",
              " '정',\n",
              " '서울시',\n",
              " '편이',\n",
              " '관계',\n",
              " '신규',\n",
              " '년도',\n",
              " '하였으며',\n",
              " '업',\n",
              " '어플',\n",
              " '지난',\n",
              " '쓴',\n",
              " '방수',\n",
              " '조회',\n",
              " '관',\n",
              " '하셔야',\n",
              " '시오',\n",
              " '슈피겐',\n",
              " '앞뒤',\n",
              " '추천',\n",
              " 'lgsh',\n",
              " '서구',\n",
              " '상관없습니다',\n",
              " '가능하십니다',\n",
              " 'm',\n",
              " '울',\n",
              " '별로',\n",
              " '이상무',\n",
              " '고속',\n",
              " '마시고',\n",
              " '등급',\n",
              " '저촉',\n",
              " '이기',\n",
              " '됐습니다',\n",
              " 'smnk',\n",
              " '끝났습니다',\n",
              " '취급',\n",
              " '요청',\n",
              " '동봉',\n",
              " '팬택',\n",
              " '수준',\n",
              " '맨',\n",
              " '깨끗함',\n",
              " '세용',\n",
              " '동대문구',\n",
              " '깨진',\n",
              " '보입니다',\n",
              " '강동',\n",
              " '사설',\n",
              " '계양구',\n",
              " '업자',\n",
              " '퀄컴',\n",
              " '바꾸게',\n",
              " '본인',\n",
              " '키',\n",
              " '되있습니다',\n",
              " '이내',\n",
              " '진동',\n",
              " '같은거',\n",
              " '사은',\n",
              " '않아',\n",
              " '스티커',\n",
              " '깔끔한',\n",
              " '뽁뽁',\n",
              " '송파',\n",
              " '여부',\n",
              " '홍대',\n",
              " '롤리팝',\n",
              " '핀',\n",
              " 'im',\n",
              " '깨끗',\n",
              " '블루투스',\n",
              " '씌우고',\n",
              " '깔끔합니다',\n",
              " '라인',\n",
              " '했어요',\n",
              " '남아',\n",
              " '쓰셔도',\n",
              " '할부',\n",
              " '값',\n",
              " '라이트닝',\n",
              " '해드리겠습니다',\n",
              " '보이지',\n",
              " '남겨주세요',\n",
              " '하다',\n",
              " '샤베트',\n",
              " 'p',\n",
              " '검색',\n",
              " '끼워서',\n",
              " '인하',\n",
              " '남은',\n",
              " '받을',\n",
              " '관련',\n",
              " '드리고요',\n",
              " '경산',\n",
              " '끼우면',\n",
              " '사기',\n",
              " '영',\n",
              " '광양',\n",
              " '퀵서비스',\n",
              " '사람',\n",
              " '넣어서',\n",
              " '아니니',\n",
              " '마세요',\n",
              " '상의',\n",
              " '짜리',\n",
              " '현',\n",
              " '낮',\n",
              " '깨끗해요',\n",
              " '여러',\n",
              " '잭',\n",
              " '흠',\n",
              " '됨',\n",
              " '끝난',\n",
              " '설치',\n",
              " '있는거',\n",
              " '가장',\n",
              " '진짜',\n",
              " '광대역',\n",
              " '없다고',\n",
              " '찍힘이나',\n",
              " '원하구요',\n",
              " 'ok',\n",
              " 'lgkh',\n",
              " '자급',\n",
              " '아이',\n",
              " '경남',\n",
              " '오전',\n",
              " '부탁드려요',\n",
              " '일괄',\n",
              " '가셔서',\n",
              " '올려',\n",
              " '하시기',\n",
              " '대신',\n",
              " '촬영',\n",
              " '전북',\n",
              " '바꾸면서',\n",
              " '저장',\n",
              " '한글',\n",
              " '시세',\n",
              " '상자',\n",
              " '여수',\n",
              " '칠이사이',\n",
              " '답터',\n",
              " '착용',\n",
              " '이전',\n",
              " '멀쩡합니다',\n",
              " '연결',\n",
              " '해보니',\n",
              " '최저',\n",
              " '당일',\n",
              " '편의점',\n",
              " 'shves',\n",
              " '써',\n",
              " '회',\n",
              " '알리',\n",
              " '드리며',\n",
              " '없고요',\n",
              " '파는',\n",
              " '있네요',\n",
              " '아예',\n",
              " '중랑구',\n",
              " '일자',\n",
              " '있고요',\n",
              " '월말',\n",
              " '쓰다가',\n",
              " '여서',\n",
              " '와같이',\n",
              " '받아',\n",
              " '소니',\n",
              " '스타일',\n",
              " '휘',\n",
              " '긁',\n",
              " '되었고',\n",
              " '요구',\n",
              " '가구',\n",
              " '뭐',\n",
              " '강동구',\n",
              " '실물',\n",
              " '넣고',\n",
              " '붙어있는',\n",
              " '되요',\n",
              " '가능하고요',\n",
              " '정식',\n",
              " '강남역',\n",
              " '눌러서',\n",
              " '점검',\n",
              " '일대',\n",
              " '보험',\n",
              " '밤',\n",
              " '둘',\n",
              " ...]"
            ]
          },
          "metadata": {
            "tags": []
          },
          "execution_count": 42
        }
      ]
    },
    {
      "cell_type": "markdown",
      "metadata": {
        "id": "z4ou-KueY0QQ"
      },
      "source": [
        "#### TF-IDF 벡터 생성"
      ]
    },
    {
      "cell_type": "code",
      "metadata": {
        "id": "go5DSB-FYyZQ"
      },
      "source": [
        "from sklearn.feature_extraction.text import CountVectorizer\r\n",
        "from sklearn.feature_extraction.text import TfidfTransformer\r\n",
        "\r\n",
        "# 빈출 형태소를 제외한 모든 형태소 제거하는 함수\r\n",
        "def get_common_pos(x):\r\n",
        "    tagger = Okt()\r\n",
        "    poses = tagger.pos(x)\r\n",
        "    return [pos[0] for pos in poses if pos[0] in common_words]\r\n",
        "\r\n",
        "# 클래스 불균형 맞춰주기 위해 부정 : 중립 : 긍정 = 1 : 3 : 1 로 추출\r\n",
        "# 일반적으로는 1:1:1로 데이터를 추출하지만, 예제에서는 부정, 긍정 데이터의 양이 많지 않기 때문에\r\n",
        "# 중립 데이터의 비중 늘림\r\n",
        "\r\n",
        "# 1:3:1 비율로 random sampling\r\n",
        "negative_random = df[df['price_level']=='0'].sample(321, random_state=30)\r\n",
        "neutral_random = df[df['price_level']=='1'].sample(321*3, random_state=30)\r\n",
        "positive_random = df[df['price_level']=='2'].sample(321, random_state=30)\r\n",
        "\r\n",
        "# sampling 완료된 데이터셋 정의\r\n",
        "df_sample = negative_random.append(neutral_random).append(positive_random)"
      ],
      "execution_count": 43,
      "outputs": []
    },
    {
      "cell_type": "code",
      "metadata": {
        "id": "YIUALVS6Y2CH"
      },
      "source": [
        "# TF-IDF를 수행하여 feature 변환\r\n",
        "index_vectorizer = CountVectorizer(tokenizer = lambda x : get_common_pos(x))\r\n",
        "X = index_vectorizer.fit_transform(df_sample['text'].tolist())\r\n",
        "\r\n",
        "tfidf_vectorizer = TfidfTransformer()\r\n",
        "X = tfidf_vectorizer.fit_transform(X)"
      ],
      "execution_count": 44,
      "outputs": []
    },
    {
      "cell_type": "code",
      "metadata": {
        "colab": {
          "base_uri": "https://localhost:8080/"
        },
        "id": "VpkvFfhvY3Nt",
        "outputId": "46f7a129-1227-49ce-c037-c7b9433601fb"
      },
      "source": [
        "# 감성 분류를 위한 학습 데이터셋 정의\r\n",
        "y = df_sample['price_level']\r\n",
        "x_train, x_test, y_train, y_test = train_test_split(X, y, test_size=0.20, random_state=30)\r\n",
        "print(x_train.shape)\r\n",
        "print(x_test.shape)"
      ],
      "execution_count": 45,
      "outputs": [
        {
          "output_type": "stream",
          "text": [
            "(1284, 2476)\n",
            "(321, 2476)\n"
          ],
          "name": "stdout"
        }
      ]
    },
    {
      "cell_type": "markdown",
      "metadata": {
        "id": "gxLtNVOnY5Qm"
      },
      "source": [
        "-> 형태소를 표현하는 features 2476개 생성"
      ]
    },
    {
      "cell_type": "markdown",
      "metadata": {
        "id": "w619_3wTY61q"
      },
      "source": [
        "#### 상품 상태 분류하기"
      ]
    },
    {
      "cell_type": "markdown",
      "metadata": {
        "id": "1jPU7qq6Y65F"
      },
      "source": [
        "- TF-IDF feature 변환이 완료된 데이터셋으로 분류 모델 학습\r\n",
        "- 분류 모델은 SVM 사용"
      ]
    },
    {
      "cell_type": "code",
      "metadata": {
        "colab": {
          "base_uri": "https://localhost:8080/"
        },
        "id": "zorjLPHRY4Ku",
        "outputId": "012296f1-a69d-4dd1-d7b6-032dbd37c33b"
      },
      "source": [
        "from sklearn.metrics import accuracy_score\r\n",
        "from sklearn.svm import SVC\r\n",
        "\r\n",
        "# 비선형 SVM 분류 모델 학습 & 평가\r\n",
        "svm = SVC(kernel='rbf', C=10.0, random_state=0, gamma=0.10)\r\n",
        "svm.fit(x_train, y_train)\r\n",
        "y_pred_ksvc = svm.predict(x_test)\r\n",
        "print('Accuracy: %.2f' % accuracy_score(y_test, y_pred_ksvc))   "
      ],
      "execution_count": 46,
      "outputs": [
        {
          "output_type": "stream",
          "text": [
            "Accuracy: 0.77\n"
          ],
          "name": "stdout"
        }
      ]
    },
    {
      "cell_type": "markdown",
      "metadata": {
        "id": "FYwpYTC3ZABF"
      },
      "source": [
        "-> 정확도 약 0.8 정도"
      ]
    },
    {
      "cell_type": "code",
      "metadata": {
        "colab": {
          "base_uri": "https://localhost:8080/"
        },
        "id": "-LHv8ruyY-ga",
        "outputId": "1e17c765-69ac-4c90-c04d-ce4b515ab143"
      },
      "source": [
        "from sklearn.metrics import confusion_matrix\r\n",
        "\r\n",
        "confmat = confusion_matrix(y_true=y_test, y_pred=y_pred_ksvc)\r\n",
        "confmat"
      ],
      "execution_count": 47,
      "outputs": [
        {
          "output_type": "execute_result",
          "data": {
            "text/plain": [
              "array([[ 30,  28,   4],\n",
              "       [ 10, 181,  10],\n",
              "       [  2,  21,  35]])"
            ]
          },
          "metadata": {
            "tags": []
          },
          "execution_count": 47
        }
      ]
    },
    {
      "cell_type": "markdown",
      "metadata": {
        "id": "zoe4UXPjZCUM"
      },
      "source": [
        "-> 꽤나 정확하게 분류 모델이 학습되었음을 알 수 있다."
      ]
    },
    {
      "cell_type": "markdown",
      "metadata": {
        "id": "5j9lY_8pZDtw"
      },
      "source": [
        "## 3. 예측 : 중고폰 거래가 예측"
      ]
    },
    {
      "cell_type": "markdown",
      "metadata": {
        "id": "Qxkd1MvHZDws"
      },
      "source": [
        "- create_time_score  \r\n",
        ": create_date을 unixtime으로 바꾸어 얼마나 오래된 게시물인지를 0 ~ 1 사이의 값으로 계산하여 표현. 1에 가까울수록 최근에 작성한 게시물을 의미  \r\n",
        "\r\n",
        "\r\n",
        "- phone_model_storage, phone_model_detail  \r\n",
        ": phone_model을 둘로 나눈 것  \r\n",
        "\r\n",
        "\r\n",
        "- product_status  \r\n",
        ": 동일 기종 내 상대 가격을 기준으로 텍스트 데이터의 감성(상품 상태)을 분류한 것. 상품의 상태는 3개의 범주로 표현"
      ]
    },
    {
      "cell_type": "markdown",
      "metadata": {
        "id": "ufs3NztRZJnv"
      },
      "source": [
        "### Random forest regressor 재학습"
      ]
    },
    {
      "cell_type": "code",
      "metadata": {
        "id": "q1bF0SvqZBMm"
      },
      "source": [
        "# text feature로부터 상품상태(product_status) feature 생성\r\n",
        "X = index_vectorizer.transform(df['text'].tolist())\r\n",
        "X = tfidf_vectorizer.transform(X)\r\n",
        "df['product_status'] = pd.Series(svm.predict(X))"
      ],
      "execution_count": 48,
      "outputs": []
    },
    {
      "cell_type": "markdown",
      "metadata": {
        "id": "yaCD1nWCZMPu"
      },
      "source": [
        "#### 새로운 feature로 예측 모델 다시 학습"
      ]
    },
    {
      "cell_type": "code",
      "metadata": {
        "colab": {
          "base_uri": "https://localhost:8080/"
        },
        "id": "0bscyiV8ZLKt",
        "outputId": "5d18daa1-884a-4a04-b822-c9fd9b159fe5"
      },
      "source": [
        "# Random forest 모델 학습 위한 데이터 준비\r\n",
        "df = df[['price', 'factory_price', 'maker', 'price_index', 'create_time_score', 'phone_model_storage',\r\n",
        "         'phone_model_detail', 'product_status']]\r\n",
        "df = pd.get_dummies(df, columns=['maker', 'phone_model_storage', 'phone_model_detail', 'product_status'])\r\n",
        "\r\n",
        "# train/test 데이터 분리\r\n",
        "X = df.loc[:, df.columns != 'price']\r\n",
        "y = df['price']\r\n",
        "X_train, X_test, y_train, y_test = train_test_split(X, y, test_size=0.3, random_state=0)\r\n",
        "\r\n",
        "# Random forest 모델 학습 & 평가\r\n",
        "forest = RandomForestRegressor(n_estimators=1000, criterion='mse')\r\n",
        "forest.fit(X_train, y_train)\r\n",
        "y_train_pred = forest.predict(X_train)\r\n",
        "y_test_pred = forest.predict(X_test)\r\n",
        "\r\n",
        "print('MSE train: %.3f, test: %.3f' % (\r\n",
        "        mean_squared_error(y_train, y_train_pred),\r\n",
        "        mean_squared_error(y_test, y_test_pred)))\r\n",
        "print('R^2 train: %.3f, test: %.3f' % (\r\n",
        "        r2_score(y_train, y_train_pred),\r\n",
        "        r2_score(y_test, y_test_pred)))"
      ],
      "execution_count": 49,
      "outputs": [
        {
          "output_type": "stream",
          "text": [
            "MSE train: 4773839637.869, test: 11065510049.717\n",
            "R^2 train: 0.902, test: 0.747\n"
          ],
          "name": "stdout"
        }
      ]
    },
    {
      "cell_type": "markdown",
      "metadata": {
        "id": "uHdKsCPGZOzb"
      },
      "source": [
        "-> train R^2, test R^2 는 매우 상승  \r\n",
        "-> 그러나 여전히 overfitting"
      ]
    },
    {
      "cell_type": "code",
      "metadata": {
        "colab": {
          "base_uri": "https://localhost:8080/",
          "height": 282
        },
        "id": "616PwHCdZNcP",
        "outputId": "7203b6be-caa5-4945-a3ff-654fe29a0093"
      },
      "source": [
        "# feature 중요도 시각화\r\n",
        "importances = forest.feature_importances_\r\n",
        "plt.plot(importances, \"o\")"
      ],
      "execution_count": 50,
      "outputs": [
        {
          "output_type": "execute_result",
          "data": {
            "text/plain": [
              "[<matplotlib.lines.Line2D at 0x7f9b60fdd6d8>]"
            ]
          },
          "metadata": {
            "tags": []
          },
          "execution_count": 50
        },
        {
          "output_type": "display_data",
          "data": {
            "image/png": "[encoded data removed]",
            "text/plain": [
              "<Figure size 432x288 with 1 Axes>"
            ]
          },
          "metadata": {
            "tags": [],
            "needs_background": "light"
          }
        }
      ]
    },
    {
      "cell_type": "code",
      "metadata": {
        "colab": {
          "base_uri": "https://localhost:8080/"
        },
        "id": "0VftsX0hZQLt",
        "outputId": "8976e39e-ceb3-4823-8e02-cdecbdbf313b"
      },
      "source": [
        "# feature 중요도 출력\r\n",
        "feat_labels = X.columns.tolist()\r\n",
        "feature = list(zip(feat_labels, forest.feature_importances_))\r\n",
        "sorted(feature, key=lambda tup: tup[1], reverse=True)[:10]"
      ],
      "execution_count": 51,
      "outputs": [
        {
          "output_type": "execute_result",
          "data": {
            "text/plain": [
              "[('maker_apple', 0.2542874282427835),\n",
              " ('factory_price', 0.2524190332580538),\n",
              " ('create_time_score', 0.11690084025697292),\n",
              " ('phone_model_storage_16gb', 0.060752385539012216),\n",
              " ('product_status_2', 0.046808240740998396),\n",
              " ('phone_model_detail_galaxy s7 edge', 0.029179790703090364),\n",
              " ('phone_model_storage_64gb', 0.025808200505920833),\n",
              " ('phone_model_detail_galaxy note5', 0.025263349902473146),\n",
              " ('phone_model_detail_galaxy s7', 0.023012419008548935),\n",
              " ('product_status_0', 0.021801939644994224)]"
            ]
          },
          "metadata": {
            "tags": []
          },
          "execution_count": 51
        }
      ]
    },
    {
      "cell_type": "markdown",
      "metadata": {
        "id": "nwBmnlWHZTD1"
      },
      "source": [
        "-> 영향력이 높은 feature 중 __create_time_score, product_status__가 있다는 것을 확인할 수 있다.  \r\n",
        "-> 새로운 feature가 중요한 역할을 수행하고 있다!"
      ]
    },
    {
      "cell_type": "markdown",
      "metadata": {
        "id": "s_Np7xLQl78E"
      },
      "source": [
        "#### feature-index 관련 딕셔너리 생성"
      ]
    },
    {
      "cell_type": "code",
      "metadata": {
        "colab": {
          "base_uri": "https://localhost:8080/"
        },
        "id": "YwzpuueCl4nF",
        "outputId": "85113e15-d732-43c7-e51a-a47b438787ae"
      },
      "source": [
        "# 프로그램에서 입력값에 대한 피처를 찾기 위한 딕셔너리를 생성\r\n",
        "col_to_index_dict = {}\r\n",
        "for idx, col in enumerate(df.columns[1:]):\r\n",
        "    col_to_index_dict[col] = idx\r\n",
        "    \r\n",
        "print(str(col_to_index_dict)[:40], \"...\")"
      ],
      "execution_count": 60,
      "outputs": [
        {
          "output_type": "stream",
          "text": [
            "{'factory_price': 0, 'price_index': 1, ' ...\n"
          ],
          "name": "stdout"
        }
      ]
    },
    {
      "cell_type": "markdown",
      "metadata": {
        "id": "3NC7tWA3ZTIY"
      },
      "source": [
        "#### 예측 결과 scatter plot"
      ]
    },
    {
      "cell_type": "code",
      "metadata": {
        "colab": {
          "base_uri": "https://localhost:8080/",
          "height": 306
        },
        "id": "iGbD_7RiZRXY",
        "outputId": "cb84e903-bae6-4c9b-dcbf-d228d6caaeef"
      },
      "source": [
        "plt.scatter(y_test.values, y_test_pred)"
      ],
      "execution_count": 52,
      "outputs": [
        {
          "output_type": "execute_result",
          "data": {
            "text/plain": [
              "<matplotlib.collections.PathCollection at 0x7f9b8c27df98>"
            ]
          },
          "metadata": {
            "tags": []
          },
          "execution_count": 52
        },
        {
          "output_type": "display_data",
          "data": {
            "image/png": "[encoded data removed]",
            "text/plain": [
              "<Figure size 432x288 with 1 Axes>"
            ]
          },
          "metadata": {
            "tags": [],
            "needs_background": "light"
          }
        }
      ]
    },
    {
      "cell_type": "markdown",
      "metadata": {
        "id": "ezaLFGk-ZX6k"
      },
      "source": [
        "-> 테스트 데이터의 y값과, 예측된 y값을 scatter plot을 활용하여 상관관계 확인  \r\n",
        "-> 몇몇 이상치를 제외하면 예측이 잘 수행된 것을 확인할 수 있다."
      ]
    },
    {
      "cell_type": "markdown",
      "metadata": {
        "id": "Mljps1PAZZO2"
      },
      "source": [
        "### 최적의 모델 파라미터 찾기\r\n"
      ]
    },
    {
      "cell_type": "markdown",
      "metadata": {
        "id": "26WfP5sLZZSN"
      },
      "source": [
        "- Random forest의 경우 __n_estimators와 max_depth__를 잘 설정하는 것이 중요함.\r\n",
        "- 이러한 최적의 파라미터는 반복적인 시도와 검증으로 찾아내야 함.\r\n",
        "- 반복적인 실행으로 최적의 파라미터를 찾아내는 방법 중 하나가 __Greedy Randomized Search__라는 방법이다."
      ]
    },
    {
      "cell_type": "code",
      "metadata": {
        "colab": {
          "base_uri": "https://localhost:8080/"
        },
        "id": "-X7hiwdKZWi1",
        "outputId": "f734c398-8025-4511-d1e8-1a2c97fe40ed"
      },
      "source": [
        "from sklearn.model_selection import RandomizedSearchCV\r\n",
        "\r\n",
        "# Randomized Search로 찾아낼 파라미터 후보군을 각각 리스트로 선정\r\n",
        "n_estimators = [int(x) for x in np.linspace(start = 200, stop = 2000, num = 10)]\r\n",
        "max_features = ['auto', 'sqrt']\r\n",
        "max_depth = [int(x) for x in np.linspace(10, 110, num = 11)]\r\n",
        "max_depth.append(None)\r\n",
        "bootstrap = [True, False]\r\n",
        "\r\n",
        "# RandomizedSearchCV 오브젝트를 생성하여 모델을 정의\r\n",
        "random_grid = {'n_estimators': n_estimators,\r\n",
        "               'max_features': max_features,\r\n",
        "               'max_depth': max_depth,\r\n",
        "               'bootstrap': bootstrap}\r\n",
        "\r\n",
        "forest = RandomForestRegressor()\r\n",
        "optimal_forest = RandomizedSearchCV(estimator = forest, \r\n",
        "                                    param_distributions = random_grid, \r\n",
        "                                    n_iter = 100, \r\n",
        "                                    cv = 3, \r\n",
        "                                    verbose=2,\r\n",
        "                                    random_state=42, \r\n",
        "                                    n_jobs = -1)\r\n",
        "\r\n",
        "# RandomizedSearchCV 모델 학습\r\n",
        "X = df.loc[:, df.columns != 'price']\r\n",
        "y = df['price']\r\n",
        "optimal_forest.fit(X, y)"
      ],
      "execution_count": 53,
      "outputs": [
        {
          "output_type": "stream",
          "text": [
            "Fitting 3 folds for each of 100 candidates, totalling 300 fits\n"
          ],
          "name": "stdout"
        },
        {
          "output_type": "stream",
          "text": [
            "[Parallel(n_jobs=-1)]: Using backend LokyBackend with 2 concurrent workers.\n",
            "[Parallel(n_jobs=-1)]: Done  37 tasks      | elapsed:  4.2min\n",
            "[Parallel(n_jobs=-1)]: Done 158 tasks      | elapsed: 13.6min\n",
            "[Parallel(n_jobs=-1)]: Done 300 out of 300 | elapsed: 30.6min finished\n"
          ],
          "name": "stderr"
        },
        {
          "output_type": "execute_result",
          "data": {
            "text/plain": [
              "RandomizedSearchCV(cv=3, error_score=nan,\n",
              "                   estimator=RandomForestRegressor(bootstrap=True,\n",
              "                                                   ccp_alpha=0.0,\n",
              "                                                   criterion='mse',\n",
              "                                                   max_depth=None,\n",
              "                                                   max_features='auto',\n",
              "                                                   max_leaf_nodes=None,\n",
              "                                                   max_samples=None,\n",
              "                                                   min_impurity_decrease=0.0,\n",
              "                                                   min_impurity_split=None,\n",
              "                                                   min_samples_leaf=1,\n",
              "                                                   min_samples_split=2,\n",
              "                                                   min_weight_fraction_leaf=0.0,\n",
              "                                                   n_estimators=100,\n",
              "                                                   n_jobs=None, oob_score=Fals...\n",
              "                                                   warm_start=False),\n",
              "                   iid='deprecated', n_iter=100, n_jobs=-1,\n",
              "                   param_distributions={'bootstrap': [True, False],\n",
              "                                        'max_depth': [10, 20, 30, 40, 50, 60,\n",
              "                                                      70, 80, 90, 100, 110,\n",
              "                                                      None],\n",
              "                                        'max_features': ['auto', 'sqrt'],\n",
              "                                        'n_estimators': [200, 400, 600, 800,\n",
              "                                                         1000, 1200, 1400, 1600,\n",
              "                                                         1800, 2000]},\n",
              "                   pre_dispatch='2*n_jobs', random_state=42, refit=True,\n",
              "                   return_train_score=False, scoring=None, verbose=2)"
            ]
          },
          "metadata": {
            "tags": []
          },
          "execution_count": 53
        }
      ]
    },
    {
      "cell_type": "markdown",
      "metadata": {
        "id": "rQmKFQ3eZeM8"
      },
      "source": [
        "#### 최적 파라미터 출력"
      ]
    },
    {
      "cell_type": "code",
      "metadata": {
        "colab": {
          "base_uri": "https://localhost:8080/"
        },
        "id": "E0Onn2oKZcs6",
        "outputId": "af5886ea-ad63-46dd-f88e-04a42ed3e0dd"
      },
      "source": [
        "# 앞서 선정한 파라미터 후보군 중에서 가장 좋은 결과를 보인 파라미터의 조합 출력\r\n",
        "optimal_forest.best_params_"
      ],
      "execution_count": 54,
      "outputs": [
        {
          "output_type": "execute_result",
          "data": {
            "text/plain": [
              "{'bootstrap': False,\n",
              " 'max_depth': 10,\n",
              " 'max_features': 'auto',\n",
              " 'n_estimators': 2000}"
            ]
          },
          "metadata": {
            "tags": []
          },
          "execution_count": 54
        }
      ]
    },
    {
      "cell_type": "markdown",
      "metadata": {
        "id": "6ooWktB2Zgrx"
      },
      "source": [
        "#### 최적 모델 학습 결과"
      ]
    },
    {
      "cell_type": "code",
      "metadata": {
        "colab": {
          "base_uri": "https://localhost:8080/"
        },
        "id": "RQo-CQxMZfa6",
        "outputId": "02565947-4e7e-47ff-e12f-1fa5b17815b6"
      },
      "source": [
        "# 최적의 파라미터를 적용한 모델로 중고폰의 가격을 예측 & 평가\r\n",
        "y_train_pred = optimal_forest.predict(X_train)\r\n",
        "y_test_pred = optimal_forest.predict(X_test)\r\n",
        "\r\n",
        "print('MSE train: %.3f, test: %.3f' % (\r\n",
        "        mean_squared_error(y_train, y_train_pred),\r\n",
        "        mean_squared_error(y_test, y_test_pred)))\r\n",
        "print('R^2 train: %.3f, test: %.3f' % (\r\n",
        "        r2_score(y_train, y_train_pred),\r\n",
        "        r2_score(y_test, y_test_pred)))"
      ],
      "execution_count": 55,
      "outputs": [
        {
          "output_type": "stream",
          "text": [
            "MSE train: 8808353780.813, test: 7645656807.452\n",
            "R^2 train: 0.818, test: 0.825\n"
          ],
          "name": "stdout"
        }
      ]
    },
    {
      "cell_type": "markdown",
      "metadata": {
        "id": "EuSbu029ZjGq"
      },
      "source": [
        "-> train socre는 다소 감소했지만, test score와의 차이가 현저하게 좁혀진 것을 볼 수 있다.  \r\n",
        "-> 따라서 모델이 가지고 있던 overfitting 문제가 해결되었다고 할 수 있다."
      ]
    },
    {
      "cell_type": "code",
      "metadata": {
        "colab": {
          "base_uri": "https://localhost:8080/",
          "height": 282
        },
        "id": "tdA6JWmkZhvh",
        "outputId": "d91ef574-5b7a-4a5b-d0a0-1c1cf4bd7d34"
      },
      "source": [
        "# 가격 예측 모델의 feature 중요도 시각화\r\n",
        "importances = optimal_forest.best_estimator_.feature_importances_\r\n",
        "indices = np.argsort(importances)[::-1]\r\n",
        "plt.bar(range(X.shape[1]), importances[indices])"
      ],
      "execution_count": 56,
      "outputs": [
        {
          "output_type": "execute_result",
          "data": {
            "text/plain": [
              "<BarContainer object of 64 artists>"
            ]
          },
          "metadata": {
            "tags": []
          },
          "execution_count": 56
        },
        {
          "output_type": "display_data",
          "data": {
            "image/png": "[encoded data removed]",
            "text/plain": [
              "<Figure size 432x288 with 1 Axes>"
            ]
          },
          "metadata": {
            "tags": [],
            "needs_background": "light"
          }
        }
      ]
    },
    {
      "cell_type": "code",
      "metadata": {
        "colab": {
          "base_uri": "https://localhost:8080/"
        },
        "id": "r81Us4cqZkPy",
        "outputId": "af9f4836-8efd-47f8-9ebb-56c6a9643ee5"
      },
      "source": [
        "# 가격 예측 모델의 feature 중요도 출력\r\n",
        "feat_labels = X.columns.tolist()\r\n",
        "feature = list(zip(feat_labels, optimal_forest.best_estimator_.feature_importances_))\r\n",
        "sorted(feature, key=lambda tup: tup[1], reverse=True)[:10]"
      ],
      "execution_count": 57,
      "outputs": [
        {
          "output_type": "execute_result",
          "data": {
            "text/plain": [
              "[('factory_price', 0.29659023022788283),\n",
              " ('maker_apple', 0.2756146339717085),\n",
              " ('phone_model_storage_16gb', 0.07214534782417117),\n",
              " ('create_time_score', 0.06571103416216734),\n",
              " ('product_status_2', 0.06262322786791343),\n",
              " ('phone_model_detail_galaxy s7 edge', 0.027077100968397844),\n",
              " ('phone_model_detail_iphone 6', 0.025017646403248585),\n",
              " ('product_status_0', 0.024447614450927697),\n",
              " ('phone_model_detail_galaxy s4', 0.02053025298822131),\n",
              " ('product_status_1', 0.013814045602771493)]"
            ]
          },
          "metadata": {
            "tags": []
          },
          "execution_count": 57
        }
      ]
    },
    {
      "cell_type": "markdown",
      "metadata": {
        "id": "AhtJsOpIZnRu"
      },
      "source": [
        "#### 예측 결과 scatter plot"
      ]
    },
    {
      "cell_type": "code",
      "metadata": {
        "colab": {
          "base_uri": "https://localhost:8080/",
          "height": 306
        },
        "id": "-4RBKPhPZlmX",
        "outputId": "962b7c68-8a4a-4e8e-b807-c4740bf0ff24"
      },
      "source": [
        "plt.scatter(y_test.values, y_test_pred)"
      ],
      "execution_count": 58,
      "outputs": [
        {
          "output_type": "execute_result",
          "data": {
            "text/plain": [
              "<matplotlib.collections.PathCollection at 0x7f9b5f7d0908>"
            ]
          },
          "metadata": {
            "tags": []
          },
          "execution_count": 58
        },
        {
          "output_type": "display_data",
          "data": {
            "image/png": "[encoded data removed]",
            "text/plain": [
              "<Figure size 432x288 with 1 Axes>"
            ]
          },
          "metadata": {
            "tags": [],
            "needs_background": "light"
          }
        }
      ]
    },
    {
      "cell_type": "markdown",
      "metadata": {
        "id": "hHFUh2SqZqHt"
      },
      "source": [
        "-> 테스트 데이터의 y값과, 예측된 y값을 scatter plot을 활용하여 상관관계 확인  \r\n",
        "-> 파라미터를 최적화 하기 이전보다 성능이 많이 향상된 것을 확인할 수 있다."
      ]
    },
    {
      "cell_type": "markdown",
      "metadata": {
        "id": "kBt1ua4zZrSc"
      },
      "source": [
        "## 4. 프로토타입 : 얼마고(Almhago)?"
      ]
    },
    {
      "cell_type": "markdown",
      "metadata": {
        "id": "IjgCQXKBZtFD"
      },
      "source": [
        "- 지금까지 완성한 중고 휴대폰 가격 예측 모델을 프로그램의 형태로 만들어보자.\r\n",
        "- 이를 통해 데이터 분석을 서비스에 활용하는 방법을 알아본다.\r\n",
        "\r\n",
        "\r\n",
        "- 프로그램 <얼마고(Almhago)?>는 미리 학습한 모델과 feature로 중고 휴대폰의 가격을 예측한다. \r\n",
        "- 하지만 프로그램을 실행할 때마다 모델을 학습할 수는 없다. \r\n",
        "- 따라서 다음에 다룰 코드를 통해 모델과 feature 정보를 file 형태로 미리 저장해야 한다. \r\n",
        "- 저장하는 file의 리스트와 정보는 다음과 같다. \r\n",
        "> - model_to_factory_price_dict  \r\n",
        ": 모델명, 용량으로 factory_price를 찾을 수 있는 파이썬 딕셔너리  \r\n",
        "> - col_to_index_dict  \r\n",
        ": dataframe의 feature를 번호로 표현한 파이썬 딕셔너리  \r\n",
        "> - common_words  \r\n",
        ": 가장 많이 등장하는 형태소 3000개의 정보  \r\n",
        "> - index_vectorizer, tfidf_vectorizer  \r\n",
        ": 텍스트 정보를 TF-IDF feature로 변환해주는 vectorizer  \r\n",
        "> - svm  \r\n",
        ": 텍스트 정보를 바탕으로 물품의 상태를 판별해주는 분류 모델 (svm 분류 모델)  \r\n",
        "> - optimal_forest  \r\n",
        ": 최적의 파라미터로 학습한 가격 예측 모델"
      ]
    },
    {
      "cell_type": "markdown",
      "metadata": {
        "id": "ITnuGfkJZzKu"
      },
      "source": [
        "### 재사용을 위한 file 저장"
      ]
    },
    {
      "cell_type": "markdown",
      "metadata": {
        "id": "wZcKwl-ncnWS"
      },
      "source": [
        "- pickle.load(파일) 을 통해서 파일 내용을 읽어오려면, pickle.dump를 사용해서 데이터를 입력한 파일이어야함.\r\n",
        "- 바이너리 파일을 읽기 위해서는 파일모드를 rb 로, 쓰기 위해서는 wb 로 지정"
      ]
    },
    {
      "cell_type": "code",
      "metadata": {
        "colab": {
          "base_uri": "https://localhost:8080/"
        },
        "id": "o2FCxLFvZoeX",
        "outputId": "7c3e6592-a4dc-4cf2-9047-a029fadb07af"
      },
      "source": [
        "from sklearn.externals import joblib\r\n",
        "\r\n",
        "with open('/content/gdrive/MyDrive/Colab Notebooks/data/used_mobile_pickles/model_to_factory_price_dict.pickle', 'wb') as f:\r\n",
        "    pickle.dump(model_to_factory_price_dict, f, pickle.HIGHEST_PROTOCOL)\r\n",
        "    \r\n",
        "with open('/content/gdrive/MyDrive/Colab Notebooks/data/used_mobile_pickles/col_to_index_dict.pickle', 'wb') as f:\r\n",
        "    pickle.dump(col_to_index_dict, f, pickle.HIGHEST_PROTOCOL)\r\n",
        "    \r\n",
        "with open('/content/gdrive/MyDrive/Colab Notebooks/data/used_mobile_pickles/common_words.pickle', 'wb') as f:\r\n",
        "    pickle.dump(common_words, f, pickle.HIGHEST_PROTOCOL)\r\n",
        "    \r\n",
        "with open('/content/gdrive/MyDrive/Colab Notebooks/data/used_mobile_pickles/init_vectorizer_vocabulary.pickle', 'wb') as f:\r\n",
        "    pickle.dump(index_vectorizer.vocabulary_, f, pickle.HIGHEST_PROTOCOL)\r\n",
        "    \r\n",
        "with open('/content/gdrive/MyDrive/Colab Notebooks/data/used_mobile_pickles/tfidf_vectorizer.pickle', 'wb') as f:\r\n",
        "    pickle.dump(tfidf_vectorizer, f, pickle.HIGHEST_PROTOCOL)\r\n",
        "    \r\n",
        "with open('/content/gdrive/MyDrive/Colab Notebooks/data/used_mobile_pickles/svm_classifier.pickle', 'wb') as f:\r\n",
        "    pickle.dump(svm, f, pickle.HIGHEST_PROTOCOL)\r\n",
        "\r\n",
        "joblib.dump(optimal_forest.best_estimator_, '/content/gdrive/MyDrive/Colab Notebooks/data/used_mobile_pickles/rf_regressor.pickle', compress = 1)"
      ],
      "execution_count": 61,
      "outputs": [
        {
          "output_type": "execute_result",
          "data": {
            "text/plain": [
              "['/content/gdrive/MyDrive/Colab Notebooks/data/used_mobile_pickles/rf_regressor.pickle']"
            ]
          },
          "metadata": {
            "tags": []
          },
          "execution_count": 61
        }
      ]
    },
    {
      "cell_type": "markdown",
      "metadata": {
        "id": "phqN-3WZc7BG"
      },
      "source": [
        "### 가격 예측 프로그램 만들기"
      ]
    },
    {
      "cell_type": "markdown",
      "metadata": {
        "id": "noO8ldFuc9wq"
      },
      "source": [
        "#### 예측에 필요한 파일 로드\r\n"
      ]
    },
    {
      "cell_type": "code",
      "metadata": {
        "id": "imFeHNMoc6WF"
      },
      "source": [
        "import pickle\r\n",
        "\r\n",
        "with open('/content/gdrive/MyDrive/Colab Notebooks/data/used_mobile_pickles/model_to_factory_price_dict.pickle', 'rb') as f:\r\n",
        "    model_to_factory_price_dict = pickle.load(f)\r\n",
        "    \r\n",
        "with open('/content/gdrive/MyDrive/Colab Notebooks/data/used_mobile_pickles/col_to_index_dict.pickle', 'rb') as f:\r\n",
        "    col_to_index_dict = pickle.load(f)\r\n",
        "    \r\n",
        "with open('/content/gdrive/MyDrive/Colab Notebooks/data/used_mobile_pickles/common_words.pickle', 'rb') as f:\r\n",
        "    common_words = pickle.load(f)\r\n",
        "\r\n",
        "with open('/content/gdrive/MyDrive/Colab Notebooks/data/used_mobile_pickles/init_vectorizer_vocabulary.pickle', 'rb') as f:\r\n",
        "    init_vectorizer_vocabulary = pickle.load(f)\r\n",
        "    \r\n",
        "with open('/content/gdrive/MyDrive/Colab Notebooks/data/used_mobile_pickles/tfidf_vectorizer.pickle', 'rb') as f:\r\n",
        "    tfidf_vectorizer = pickle.load(f)\r\n",
        "    \r\n",
        "with open('/content/gdrive/MyDrive/Colab Notebooks/data/used_mobile_pickles/svm_classifier.pickle', 'rb') as f:\r\n",
        "    svm_classifier = pickle.load(f)\r\n",
        "\r\n",
        "rf_regressor = joblib.load('/content/gdrive/MyDrive/Colab Notebooks/data/used_mobile_pickles/rf_regressor.pickle')"
      ],
      "execution_count": 62,
      "outputs": []
    },
    {
      "cell_type": "markdown",
      "metadata": {
        "id": "kdcqNqM7daTW"
      },
      "source": [
        "### 프로그램(클래스) 만들기"
      ]
    },
    {
      "cell_type": "markdown",
      "metadata": {
        "id": "hIGgorrAdkfM"
      },
      "source": [
        "- 지금까지의 모든 분석의 과정에 사용된 함수, 전처리 방법 등을 하나의 클래스로 만들기\r\n",
        "- 이 클래스는 앞서 저장한 파일들을 활용하여 새로운 분석이나 학습의 과정 없이 이전에 분석했던 결과들을 실행할 수 있다."
      ]
    },
    {
      "cell_type": "code",
      "metadata": {
        "id": "-2pMIGLwdbMg"
      },
      "source": [
        "import numpy as np\r\n",
        "\r\n",
        "from konlpy.tag import Okt\r\n",
        "from sklearn.feature_extraction.text import CountVectorizer\r\n",
        "from sklearn.feature_extraction.text import TfidfTransformer\r\n",
        "from sklearn.svm import SVC\r\n",
        "from sklearn.ensemble import RandomForestRegressor\r\n",
        "from sklearn.model_selection import RandomizedSearchCV\r\n",
        "\r\n",
        "class Almhago():\r\n",
        "    def __init__(self, model_to_factory_price_dict, col_to_index_dict, \r\n",
        "                 common_words, init_vectorizer_vocabulary, tfidf_vectorizer, \r\n",
        "                 prd_status_classifier, price_regressor):\r\n",
        "        self._model_to_factory_price_dict = model_to_factory_price_dict\r\n",
        "        self._col_to_index_dict = col_to_index_dict\r\n",
        "        self._common_words = common_words\r\n",
        "        self._init_vectorizer_vocabulary = init_vectorizer_vocabulary\r\n",
        "        self._index_vectorizer = self._init_index_vectorizer()\r\n",
        "        self._tfidf_vectorizer = tfidf_vectorizer\r\n",
        "        self._prd_status_classifier = prd_status_classifier\r\n",
        "        self._price_regressor = price_regressor\r\n",
        "        \r\n",
        "    def _get_common_pos(self, x):\r\n",
        "        tagger = Okt()\r\n",
        "        poses = tagger.pos(x)\r\n",
        "        return [pos[0] for pos in poses if pos[0] in self._common_words]\r\n",
        "    \r\n",
        "    def _text_cleaning(self, text):\r\n",
        "        text = ''.join(c for c in text if c.isalnum() or c in '+, ')\r\n",
        "        text = ''.join([i for i in text if not i.isdigit()])\r\n",
        "        return text\r\n",
        "        \r\n",
        "    def _init_index_vectorizer(self):\r\n",
        "        word_index_vectorizer = CountVectorizer(tokenizer = lambda x: self._get_common_pos(x))\r\n",
        "        word_index_vectorizer.vocabulary_ = self._init_vectorizer_vocabulary\r\n",
        "        return word_index_vectorizer\r\n",
        "    \r\n",
        "    def _get_ftr_price(self, model_name, storage):\r\n",
        "        return self._model_to_factory_price_dict[(model_name, storage)]\r\n",
        "    \r\n",
        "    def _get_prd_status(self, text):\r\n",
        "        X = self._index_vectorizer.transform([self._text_cleaning(program_test_dict['text'])])\r\n",
        "        X = self._tfidf_vectorizer.transform(X)\r\n",
        "        return self._prd_status_classifier.predict(X)[0]\r\n",
        "    \r\n",
        "    def _print_almhago(self, model, price, prd_status):\r\n",
        "        status = ''\r\n",
        "        if prd_status == '0':\r\n",
        "            status = '불량한'\r\n",
        "        elif prd_status == '1':\r\n",
        "            status = '양호한'\r\n",
        "        else:\r\n",
        "            status = '좋은'\r\n",
        "        print('선택하신', model, '모델은', status, '상태입니다. Almhago 예상 가격은', str(int(price[0])), '원 입니다.')\r\n",
        "\r\n",
        "    def predict(self, input_dict):\r\n",
        "        feature = np.zeros(64)\r\n",
        "        feature[self._col_to_index_dict['factory_price']] = self._get_ftr_price(input_dict['phone_model_detail'],\r\n",
        "                                                                                input_dict['phone_model_storage'])\r\n",
        "        feature[self._col_to_index_dict['price_index']] = input_dict['price_index']\r\n",
        "        feature[self._col_to_index_dict['create_time_score']] = input_dict['create_time_score']\r\n",
        "        feature[self._col_to_index_dict[\"_\".join([\"maker\", input_dict['maker']])]] = 1\r\n",
        "        feature[self._col_to_index_dict[\"_\".join([\"phone_model_detail\", input_dict['phone_model_detail']])]] = 1\r\n",
        "        feature[self._col_to_index_dict[\"_\".join([\"phone_model_storage\", input_dict['phone_model_storage']])]] = 1\r\n",
        "        feature[self._col_to_index_dict[\"_\".join([\"product_status\", self._get_prd_status(input_dict['text'])])]] = 1\r\n",
        "\r\n",
        "        # predict result\r\n",
        "        predicted_price = self._price_regressor.predict([feature])\r\n",
        "        self._print_almhago(input_dict['phone_model_detail'],\r\n",
        "                            predicted_price,\r\n",
        "                            self._get_prd_status(input_dict['text']))"
      ],
      "execution_count": 64,
      "outputs": []
    },
    {
      "cell_type": "markdown",
      "metadata": {
        "id": "7HTyQzgHnrbR"
      },
      "source": [
        "#### 프로그램 테스트"
      ]
    },
    {
      "cell_type": "code",
      "metadata": {
        "colab": {
          "base_uri": "https://localhost:8080/"
        },
        "id": "Yxhht5JfnsYX",
        "outputId": "6031c671-9ed5-4800-ccd5-127e767aea97"
      },
      "source": [
        "# 데이터의 가장 최근 시점인 2017년 4월을 기준으로 하기 위한 \r\n",
        "# 두 개(price_index, create_time_score)의 feature를 정의\r\n",
        "recent_price_index = 95.96\r\n",
        "recent_create_time_score = 1.0\r\n",
        "\r\n",
        "# 판매 가격을 예측하고자 하는 메이커, 기종, 용량을 입력하고, 상품의 상태를 나타내는 게시글을 입력\r\n",
        "program_test_dict = {'maker' : 'apple',\r\n",
        "                     'phone_model_detail' : 'iphone 6',\r\n",
        "                     'phone_model_storage' : '16gb',\r\n",
        "                     'text' : '아이폰6 스페이스그레이 16기가 10만원에 팔아요~ 직접거래 \\\r\n",
        "                     메인보드 세척 완료 한 침수 폰 입니다폰 안켜지는 상테이구요 고쳐서 쓰실분 가져가세요10만원에 팔아요 \\\r\n",
        "                     리퍼한지 얼마안되서 기스 이런거 하나도 없습니당~서울 강남 근처 직거래 가능하며택배거래도 가능해요',\r\n",
        "                     'price_index' : recent_price_index,\r\n",
        "                     'create_time_score' : recent_create_time_score}\r\n",
        "\r\n",
        "# 정의한 피처를 파라미터로 하여 almhago 오브젝트를 생성\r\n",
        "almhago = Almhago(model_to_factory_price_dict, col_to_index_dict, \r\n",
        "                  common_words, init_vectorizer_vocabulary, tfidf_vectorizer, \r\n",
        "                  svm_classifier, rf_regressor)\r\n",
        "\r\n",
        "# 입력한 데이터로 판매 가격 예측\r\n",
        "almhago.predict(program_test_dict)"
      ],
      "execution_count": 65,
      "outputs": [
        {
          "output_type": "stream",
          "text": [
            "선택하신 iphone 6 모델은 불량한 상태입니다. Almhago 예상 가격은 152307 원 입니다.\n"
          ],
          "name": "stdout"
        }
      ]
    }
  ]
}